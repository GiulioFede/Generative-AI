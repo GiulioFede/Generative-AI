{
  "nbformat": 4,
  "nbformat_minor": 0,
  "metadata": {
    "colab": {
      "provenance": [],
      "collapsed_sections": [
        "3eHIGurE7SVO",
        "Qoe94xCIT4Nl",
        "xzn0YrUaaWjx",
        "JSbtnul3nT1-",
        "8ei2LlGs5C2q",
        "cuc9qvyWWHUf",
        "s8rcWdkX9In4",
        "7iZsvZOfgOgW",
        "u_P94_AwVz8o"
      ],
      "gpuType": "T4"
    },
    "kernelspec": {
      "name": "python3",
      "display_name": "Python 3"
    },
    "language_info": {
      "name": "python"
    },
    "accelerator": "GPU"
  },
  "cells": [
    {
      "cell_type": "code",
      "execution_count": 1,
      "metadata": {
        "id": "YmxK034M6v7X"
      },
      "outputs": [],
      "source": [
        "import os\n",
        "import pandas as pd\n",
        "import numpy as np\n",
        "import matplotlib.pyplot as plt\n",
        "import torch\n",
        "from sklearn.datasets import load_digits\n",
        "from torchvision.datasets import FashionMNIST\n",
        "from torch.utils.data import Dataset, DataLoader\n",
        "import torch.nn as nn\n",
        "import torch.nn.functional as F\n",
        "from torch.distributions.multivariate_normal import MultivariateNormal"
      ]
    },
    {
      "cell_type": "code",
      "source": [
        "# Controlla la disponibilità della GPU\n",
        "if torch.cuda.is_available():\n",
        "    device = torch.device(\"cuda\")  # Imposta il dispositivo sulla GPU\n",
        "else:\n",
        "    device = torch.device(\"cpu\")  # Se la GPU non è disponibile, utilizza la CPU\n",
        "\n",
        "print(device)"
      ],
      "metadata": {
        "id": "JbQBUpStOG34",
        "colab": {
          "base_uri": "https://localhost:8080/"
        },
        "outputId": "46da3814-ec0d-48b9-b1af-b229ce73a406"
      },
      "execution_count": 2,
      "outputs": [
        {
          "output_type": "stream",
          "name": "stdout",
          "text": [
            "cuda\n"
          ]
        }
      ]
    },
    {
      "cell_type": "code",
      "source": [
        "path_to_model = \"/content/\"\n",
        "path_to_output = \"/content/my\" #crea la cartella \"my\""
      ],
      "metadata": {
        "id": "wM1JJIxd1Zan"
      },
      "execution_count": null,
      "outputs": []
    },
    {
      "cell_type": "markdown",
      "source": [
        "# Dataset 1"
      ],
      "metadata": {
        "id": "3eHIGurE7SVO"
      }
    },
    {
      "cell_type": "code",
      "source": [
        "#Abbiamo 1797 campioni, ciascuno 8x8. Ogni immagine è organizzata come un vettore di 64 pixel\n",
        "fashioneMNIST = FashionMNIST(\"./\", download=True)\n",
        "fashioneMNIST\n",
        "\n",
        "print(fashioneMNIST)"
      ],
      "metadata": {
        "colab": {
          "base_uri": "https://localhost:8080/"
        },
        "id": "aYPMHwO6k3_R",
        "outputId": "28ba5259-4511-478a-b745-827a035cfe47"
      },
      "execution_count": null,
      "outputs": [
        {
          "output_type": "stream",
          "name": "stdout",
          "text": [
            "Dataset FashionMNIST\n",
            "    Number of datapoints: 60000\n",
            "    Root location: ./\n",
            "    Split: Train\n"
          ]
        }
      ]
    },
    {
      "cell_type": "code",
      "source": [
        "from matplotlib import pyplot as plt\n",
        "\n",
        "img1 = fashioneMNIST.data[1]\n",
        "print(img1.shape)\n",
        "\n",
        "plt.imshow(img1,cmap='Greys', interpolation='none')\n"
      ],
      "metadata": {
        "colab": {
          "base_uri": "https://localhost:8080/",
          "height": 465
        },
        "id": "xOzMXbwxl_7X",
        "outputId": "a2fe8cf7-fa1f-4e37-eee9-7f2725e3789c"
      },
      "execution_count": null,
      "outputs": [
        {
          "output_type": "stream",
          "name": "stdout",
          "text": [
            "torch.Size([28, 28])\n"
          ]
        },
        {
          "output_type": "execute_result",
          "data": {
            "text/plain": [
              "<matplotlib.image.AxesImage at 0x7f7b2e7409d0>"
            ]
          },
          "metadata": {},
          "execution_count": 270
        },
        {
          "output_type": "display_data",
          "data": {
            "text/plain": [
              "<Figure size 640x480 with 1 Axes>"
            ],
            "image/png": "[encoded data removed]"
          },
          "metadata": {}
        }
      ]
    },
    {
      "cell_type": "code",
      "source": [
        "#essendo ogni riga una immagine allora prendo le prime 50000 come training set, 5000 come validation set e il resto come test set\n",
        "training_data = fashioneMNIST.data[0:50000].float()\n",
        "validation_data = fashioneMNIST.data[50000:55000].float()\n",
        "test_data = fashioneMNIST.data[55000:].float()"
      ],
      "metadata": {
        "id": "rH56FdMIlpbN"
      },
      "execution_count": null,
      "outputs": []
    },
    {
      "cell_type": "code",
      "source": [
        "#hyperparameters\n",
        "input_shape_image = 28*28\n",
        "possible_pixel_values = 256 # ossia {0,1,...,255}"
      ],
      "metadata": {
        "id": "V_vEwyTKa8ny"
      },
      "execution_count": null,
      "outputs": []
    },
    {
      "cell_type": "markdown",
      "source": [
        "# Dataset 1 normalizzato tra 0 e 10"
      ],
      "metadata": {
        "id": "Qoe94xCIT4Nl"
      }
    },
    {
      "cell_type": "code",
      "source": [
        "#Abbiamo 1797 campioni, ciascuno 8x8. Ogni immagine è organizzata come un vettore di 64 pixel\n",
        "fashioneMNIST = FashionMNIST(\"./\", download=True)\n",
        "fashioneMNIST\n",
        "\n",
        "print(fashioneMNIST)"
      ],
      "metadata": {
        "colab": {
          "base_uri": "https://localhost:8080/"
        },
        "outputId": "52e946bd-14d3-4af5-c067-49e94a366361",
        "id": "cYZWtrPhT-2i"
      },
      "execution_count": null,
      "outputs": [
        {
          "output_type": "stream",
          "name": "stdout",
          "text": [
            "Dataset FashionMNIST\n",
            "    Number of datapoints: 60000\n",
            "    Root location: ./\n",
            "    Split: Train\n"
          ]
        }
      ]
    },
    {
      "cell_type": "code",
      "source": [
        "d = torch.round(((fashioneMNIST.data / 255) * 10))"
      ],
      "metadata": {
        "id": "YQY5VpZGT-2j"
      },
      "execution_count": null,
      "outputs": []
    },
    {
      "cell_type": "code",
      "source": [
        "from matplotlib import pyplot as plt\n",
        "\n",
        "img1 = d[1]\n",
        "print(img1.shape)\n",
        "\n",
        "plt.imshow(img1,cmap='Greys', interpolation='none')\n"
      ],
      "metadata": {
        "colab": {
          "base_uri": "https://localhost:8080/",
          "height": 465
        },
        "outputId": "03943b43-af9c-458a-ba1c-bf32269170b3",
        "id": "Kw8GwqhzT-2j"
      },
      "execution_count": null,
      "outputs": [
        {
          "output_type": "stream",
          "name": "stdout",
          "text": [
            "torch.Size([28, 28])\n"
          ]
        },
        {
          "output_type": "execute_result",
          "data": {
            "text/plain": [
              "<matplotlib.image.AxesImage at 0x7f9290f53fa0>"
            ]
          },
          "metadata": {},
          "execution_count": 49
        },
        {
          "output_type": "display_data",
          "data": {
            "text/plain": [
              "<Figure size 640x480 with 1 Axes>"
            ],
            "image/png": "[encoded data removed]"
          },
          "metadata": {}
        }
      ]
    },
    {
      "cell_type": "code",
      "source": [
        "#essendo ogni riga una immagine allora prendo le prime 50000 come training set, 5000 come validation set e il resto come test set\n",
        "training_data = d.data[0:2000].float()\n",
        "validation_data = d.data[2000:3000].float()\n",
        "test_data = d.data[3000:4000].float()"
      ],
      "metadata": {
        "id": "yeTHbwS-T-2j"
      },
      "execution_count": null,
      "outputs": []
    },
    {
      "cell_type": "code",
      "source": [
        "#hyperparameters\n",
        "input_shape_image = 28*28\n",
        "possible_pixel_values = 11 # ossia {0,1,...,10}"
      ],
      "metadata": {
        "id": "grwmawsUT-2k"
      },
      "execution_count": null,
      "outputs": []
    },
    {
      "cell_type": "markdown",
      "source": [
        "# Dataset 2 (digits)"
      ],
      "metadata": {
        "id": "xzn0YrUaaWjx"
      }
    },
    {
      "cell_type": "code",
      "source": [
        "#Abbiamo 1797 campioni, ciascuno 8x8. Ogni immagine è organizzata come un vettore di 64 pixel\n",
        "digits_dataset = load_digits()\n",
        "\n",
        "print(digits_dataset.data.shape)"
      ],
      "metadata": {
        "colab": {
          "base_uri": "https://localhost:8080/"
        },
        "outputId": "06d1cf37-6b2a-4ac2-a6e9-d24f5c4659c2",
        "id": "IWpMp1aOakYx"
      },
      "execution_count": 23,
      "outputs": [
        {
          "output_type": "stream",
          "name": "stdout",
          "text": [
            "(1797, 64)\n"
          ]
        }
      ]
    },
    {
      "cell_type": "code",
      "source": [
        "from matplotlib import pyplot as plt\n",
        "#ogni riga è una immagine. Vediamo un esempio\n",
        "img1 = digits_dataset.data[0]\n",
        "#facciamo il reshape del vettore di 64 elementi in 8x8\n",
        "img1 = np.reshape(img1, (8,8))\n",
        "plt.imshow(img1)\n"
      ],
      "metadata": {
        "colab": {
          "base_uri": "https://localhost:8080/",
          "height": 447
        },
        "outputId": "687208e9-441b-4c05-872f-108c894ba948",
        "id": "zt0evHxEakYx"
      },
      "execution_count": 24,
      "outputs": [
        {
          "output_type": "execute_result",
          "data": {
            "text/plain": [
              "<matplotlib.image.AxesImage at 0x7faebec1b820>"
            ]
          },
          "metadata": {},
          "execution_count": 24
        },
        {
          "output_type": "display_data",
          "data": {
            "text/plain": [
              "<Figure size 640x480 with 1 Axes>"
            ],
            "image/png": "[encoded data removed]"
          },
          "metadata": {}
        }
      ]
    },
    {
      "cell_type": "code",
      "source": [
        "#essendo ogni riga una immagine allora prendo le prime 1000 come training set, 350 come validation set e il resto come test set\n",
        "training_data = digits_dataset.data[0:1000].astype(np.float32)\n",
        "validation_data = digits_dataset.data[1000:1350].astype(np.float32)\n",
        "test_data = digits_dataset.data[1350:].astype(np.float32)"
      ],
      "metadata": {
        "id": "BQcWZ6-OakYy"
      },
      "execution_count": 25,
      "outputs": []
    },
    {
      "cell_type": "code",
      "source": [
        "#hyperparameters\n",
        "input_shape_image = 8*8\n",
        "possible_pixel_values = 17 # ossia {0,1,...,16}"
      ],
      "metadata": {
        "id": "hGkkAp-2a3u5"
      },
      "execution_count": 26,
      "outputs": []
    },
    {
      "cell_type": "markdown",
      "source": [
        "# Dataset 3 (locale) Emoticons 72x72"
      ],
      "metadata": {
        "id": "JSbtnul3nT1-"
      }
    },
    {
      "cell_type": "code",
      "source": [
        "from google.colab import drive\n",
        "drive.mount('/content/drive')"
      ],
      "metadata": {
        "colab": {
          "base_uri": "https://localhost:8080/"
        },
        "id": "WJQlaLFWnwh-",
        "outputId": "475d2834-c36c-41e5-b639-111dead9ed22"
      },
      "execution_count": null,
      "outputs": [
        {
          "output_type": "stream",
          "name": "stdout",
          "text": [
            "Mounted at /content/drive\n"
          ]
        }
      ]
    },
    {
      "cell_type": "code",
      "source": [
        "import os\n",
        "import numpy as np\n",
        "import pandas as pd\n",
        "from PIL import Image\n",
        "\n",
        "folder_path = '/content/drive/MyDrive/Generative_AI/datasets/Emoticons_72x72'\n",
        "\n",
        "image_data = []\n",
        "\n",
        "resize_to = 40\n",
        "max_value = 15\n",
        "\n",
        "for filename in os.listdir(folder_path):\n",
        "    file_path = os.path.join(folder_path, filename)\n",
        "    print(\"Carico \"+file_path)\n",
        "    # Carica l'immagine in bianco e nero utilizzando PIL\n",
        "    img = Image.open(file_path).convert('L')\n",
        "    # Ridimensiona l'immagine a 10x10 pixel utilizzando numpy\n",
        "    img_resized = np.array(img.resize((resize_to, resize_to)))\n",
        "    # Normalizza i valori dei pixel nell'intervallo da 0 a 10 utilizzando numpy\n",
        "    img_normalized = np.round((img_resized / 255) * max_value).astype(int)\n",
        "    # Aggiungi l'immagine normalizzata alla lista dei dati\n",
        "    image_data.append(img_normalized)\n",
        "\n",
        "# Converti la lista dei dati in un array numpy\n",
        "image_data = np.array(image_data)\n",
        "\n",
        "# Ottieni il numero totale di immagini lette\n",
        "N = image_data.shape[0]\n",
        "\n",
        "# Reshape dell'array delle immagini in (N, 10, 10)\n",
        "image_data_reshaped = image_data.reshape(N, resize_to, resize_to)\n",
        "\n",
        "print(image_data_reshaped.shape)\n"
      ],
      "metadata": {
        "id": "HwOn6Nd-oMRI"
      },
      "execution_count": null,
      "outputs": []
    },
    {
      "cell_type": "code",
      "source": [
        "from matplotlib import pyplot as plt\n",
        "#ogni riga è una immagine. Vediamo un esempio\n",
        "img1 = image_data_reshaped[35]\n",
        "plt.imshow(img1,cmap='Greys', interpolation='none')\n"
      ],
      "metadata": {
        "colab": {
          "base_uri": "https://localhost:8080/",
          "height": 448
        },
        "id": "SiXgaK79osML",
        "outputId": "6d6e154f-0e99-4376-e7b2-bc54c643cb95"
      },
      "execution_count": null,
      "outputs": [
        {
          "output_type": "execute_result",
          "data": {
            "text/plain": [
              "<matplotlib.image.AxesImage at 0x7f40dc7e4820>"
            ]
          },
          "metadata": {},
          "execution_count": 243
        },
        {
          "output_type": "display_data",
          "data": {
            "text/plain": [
              "<Figure size 640x480 with 1 Axes>"
            ],
            "image/png": "[encoded data removed]"
          },
          "metadata": {}
        }
      ]
    },
    {
      "cell_type": "code",
      "source": [
        "#essendo ogni riga una immagine allora prendo le prime 1000 come training set, 350 come validation set e il resto come test set\n",
        "training_data = image_data_reshaped[0:1000].astype(np.float32)\n",
        "validation_data = image_data_reshaped[1000:1800].astype(np.float32)\n",
        "test_data = image_data_reshaped[1800:].astype(np.float32)"
      ],
      "metadata": {
        "id": "ePUL64nBpfP_"
      },
      "execution_count": null,
      "outputs": []
    },
    {
      "cell_type": "code",
      "source": [
        "#hyperparameters\n",
        "input_shape_image = resize_to*resize_to\n",
        "possible_pixel_values = max_value+1 # ossia {0,1,...,max_value}"
      ],
      "metadata": {
        "id": "zapmO6HNpfQA"
      },
      "execution_count": null,
      "outputs": []
    },
    {
      "cell_type": "markdown",
      "source": [
        "# Dataset 4 (locale) Emoticons 15x15"
      ],
      "metadata": {
        "id": "8ei2LlGs5C2q"
      }
    },
    {
      "cell_type": "code",
      "source": [
        "from google.colab import drive\n",
        "drive.mount('/content/drive')"
      ],
      "metadata": {
        "colab": {
          "base_uri": "https://localhost:8080/"
        },
        "outputId": "948a2710-f4ed-4152-9661-245de8363b90",
        "id": "lpyr_3RG5HZT"
      },
      "execution_count": null,
      "outputs": [
        {
          "output_type": "stream",
          "name": "stdout",
          "text": [
            "Mounted at /content/drive\n"
          ]
        }
      ]
    },
    {
      "cell_type": "code",
      "source": [
        "import os\n",
        "import numpy as np\n",
        "import pandas as pd\n",
        "from PIL import Image\n",
        "\n",
        "folder_path = '/content/drive/MyDrive/Generative_AI/datasets/Emoticons_15x15'\n",
        "\n",
        "image_data = []\n",
        "\n",
        "resize_to = 15\n",
        "max_value = 20\n",
        "\n",
        "#emoticons with a smile\n",
        "index_of_example = -1\n",
        "i=0\n",
        "for filename in os.listdir(folder_path):\n",
        "    if filename==\"9.png\":\n",
        "      index_of_example = i\n",
        "    file_path = os.path.join(folder_path, filename)\n",
        "    print(\"Carico \"+file_path)\n",
        "    # Carica l'immagine in bianco e nero utilizzando PIL\n",
        "    img = Image.open(file_path).convert('L')\n",
        "    # Ridimensiona l'immagine a 10x10 pixel utilizzando numpy\n",
        "    img_resized = np.array(img.resize((resize_to, resize_to)))\n",
        "    # Normalizza i valori dei pixel nell'intervallo da 0 a 10 utilizzando numpy\n",
        "    img_normalized = np.round((img_resized / 255) * max_value).astype(int)\n",
        "    # Aggiungi l'immagine normalizzata alla lista dei dati\n",
        "    image_data.append(img_normalized)\n",
        "    i=i+1\n",
        "\n",
        "# Converti la lista dei dati in un array numpy\n",
        "image_data = np.array(image_data)\n",
        "\n",
        "# Ottieni il numero totale di immagini lette\n",
        "N = image_data.shape[0]\n",
        "\n",
        "# Reshape dell'array delle immagini in (N, 10, 10)\n",
        "image_data_reshaped = image_data.reshape(N, resize_to, resize_to)\n",
        "\n",
        "print(image_data_reshaped.shape)\n"
      ],
      "metadata": {
        "id": "QaFA44QC5HZU"
      },
      "execution_count": null,
      "outputs": []
    },
    {
      "cell_type": "code",
      "source": [
        "from matplotlib import pyplot as plt\n",
        "#ogni riga è una immagine. Vediamo un esempio\n",
        "img1 = image_data_reshaped[index_of_example]\n",
        "plt.imshow(img1,cmap='Greys', interpolation='none')\n"
      ],
      "metadata": {
        "colab": {
          "base_uri": "https://localhost:8080/",
          "height": 447
        },
        "outputId": "23010a30-ff13-4107-8580-758eaed14c00",
        "id": "eaEyn-tB5HZU"
      },
      "execution_count": null,
      "outputs": [
        {
          "output_type": "execute_result",
          "data": {
            "text/plain": [
              "<matplotlib.image.AxesImage at 0x7f40e94d7f40>"
            ]
          },
          "metadata": {},
          "execution_count": 193
        },
        {
          "output_type": "display_data",
          "data": {
            "text/plain": [
              "<Figure size 640x480 with 1 Axes>"
            ],
            "image/png": "[encoded data removed]"
          },
          "metadata": {}
        }
      ]
    },
    {
      "cell_type": "code",
      "source": [
        "#essendo ogni riga una immagine allora prendo le prime 1000 come training set, 350 come validation set e il resto come test set\n",
        "training_data = image_data_reshaped[0:1000].astype(np.float32)\n",
        "validation_data = image_data_reshaped[1000:1500].astype(np.float32)\n",
        "test_data = image_data_reshaped[1500:].astype(np.float32)"
      ],
      "metadata": {
        "id": "8gKEXWaI5HZV"
      },
      "execution_count": null,
      "outputs": []
    },
    {
      "cell_type": "code",
      "source": [
        "#hyperparameters\n",
        "input_shape_image = resize_to*resize_to\n",
        "possible_pixel_values = max_value+1 # ossia {0,1,...,max_value}"
      ],
      "metadata": {
        "id": "8Ot7M3oz5HZV"
      },
      "execution_count": null,
      "outputs": []
    },
    {
      "cell_type": "markdown",
      "source": [
        "# Dataset 5 (Frey Face)"
      ],
      "metadata": {
        "id": "cuc9qvyWWHUf"
      }
    },
    {
      "cell_type": "code",
      "source": [
        "from google.colab import drive\n",
        "drive.mount('/content/drive')"
      ],
      "metadata": {
        "colab": {
          "base_uri": "https://localhost:8080/"
        },
        "id": "tAR-zlTeWXRo",
        "outputId": "99ec9943-b432-4572-ae7f-e181b7282173"
      },
      "execution_count": null,
      "outputs": [
        {
          "output_type": "stream",
          "name": "stdout",
          "text": [
            "Drive already mounted at /content/drive; to attempt to forcibly remount, call drive.mount(\"/content/drive\", force_remount=True).\n"
          ]
        }
      ]
    },
    {
      "cell_type": "code",
      "source": [
        "import scipy.io\n",
        "\n",
        "# Carica il file .mat\n",
        "data = scipy.io.loadmat('/content/drive/MyDrive/Generative_AI/datasets/frey_rawface.mat')"
      ],
      "metadata": {
        "id": "9FVLK-OdWJ81"
      },
      "execution_count": null,
      "outputs": []
    },
    {
      "cell_type": "code",
      "source": [
        "data = data['ff'].T\n",
        "data"
      ],
      "metadata": {
        "colab": {
          "base_uri": "https://localhost:8080/"
        },
        "id": "Q5fY0RULWy61",
        "outputId": "db5720ed-84e8-40f4-bb63-3c04c1db2b84"
      },
      "execution_count": null,
      "outputs": [
        {
          "output_type": "execute_result",
          "data": {
            "text/plain": [
              "array([[ 81, 136, 167, ..., 152, 158, 164],\n",
              "       [ 85, 138, 165, ..., 167, 178, 184],\n",
              "       [ 87, 139, 166, ..., 172, 177, 183],\n",
              "       ...,\n",
              "       [ 80,  84, 155, ..., 111, 186, 182],\n",
              "       [ 73,  86, 131, ..., 135, 167, 177],\n",
              "       [ 58,  89, 110, ..., 166, 177, 184]], dtype=uint8)"
            ]
          },
          "metadata": {},
          "execution_count": 306
        }
      ]
    },
    {
      "cell_type": "code",
      "source": [
        "data = data.reshape(1965,28,20)"
      ],
      "metadata": {
        "id": "f-Yh3DqEXmDB"
      },
      "execution_count": null,
      "outputs": []
    },
    {
      "cell_type": "code",
      "source": [
        "from PIL import Image\n",
        "# Converte la matrice in un oggetto immagine di tipo Pillow\n",
        "image_list = [Image.fromarray(data[i]) for i in range(data.shape[0])]\n",
        "\n",
        "# Ridimensiona tutte le immagini nella lista all'altezza e larghezza desiderate\n",
        "new_image_list = [image.resize((28, 28)) for image in image_list]\n",
        "\n",
        "# Converti le immagini ridimensionate in una nuova matrice\n",
        "resized_data = np.array([np.array(image) for image in new_image_list])\n",
        "\n",
        "max_value = 20\n",
        "#normalizza\n",
        "img_normalized = np.round((resized_data / 255) * max_value).astype(int)"
      ],
      "metadata": {
        "id": "XVUkf3TTaOxk"
      },
      "execution_count": null,
      "outputs": []
    },
    {
      "cell_type": "code",
      "source": [
        "from matplotlib import pyplot as plt\n",
        "plt.rcParams['figure.figsize'] = (5, 5) # set default size of plots\n",
        "plt.rcParams['image.interpolation'] = 'nearest'\n",
        "plt.rcParams['image.cmap'] = 'gray'\n",
        "#ogni riga è una immagine. Vediamo un esempio\n",
        "img1 = img_normalized[1120]\n",
        "print(img1.shape)\n",
        "plt.imshow(img1)\n"
      ],
      "metadata": {
        "colab": {
          "base_uri": "https://localhost:8080/",
          "height": 480
        },
        "outputId": "4352e611-3c75-4d67-b127-e37a46bbbfa1",
        "id": "wrA4figkX0fm"
      },
      "execution_count": null,
      "outputs": [
        {
          "output_type": "stream",
          "name": "stdout",
          "text": [
            "(28, 28)\n"
          ]
        },
        {
          "output_type": "execute_result",
          "data": {
            "text/plain": [
              "<matplotlib.image.AxesImage at 0x7f40dde291e0>"
            ]
          },
          "metadata": {},
          "execution_count": 309
        },
        {
          "output_type": "display_data",
          "data": {
            "text/plain": [
              "<Figure size 500x500 with 1 Axes>"
            ],
            "image/png": "[encoded data removed]"
          },
          "metadata": {}
        }
      ]
    },
    {
      "cell_type": "code",
      "source": [
        "#essendo ogni riga una immagine allora prendo le prime 1000 come training set, 350 come validation set e il resto come test set\n",
        "training_data = img_normalized[0:1300].astype(np.float32)\n",
        "validation_data = img_normalized[1300:1800].astype(np.float32)\n",
        "test_data = img_normalized[1800:].astype(np.float32)"
      ],
      "metadata": {
        "id": "JfhOkC2FX0fn"
      },
      "execution_count": null,
      "outputs": []
    },
    {
      "cell_type": "code",
      "source": [
        "#hyperparameters\n",
        "resize_to = 28\n",
        "input_shape_image = resize_to*resize_to\n",
        "possible_pixel_values = max_value+1 # ossia {0,1,...,max_value}"
      ],
      "metadata": {
        "id": "9csDpf8KX0fo"
      },
      "execution_count": null,
      "outputs": []
    },
    {
      "cell_type": "markdown",
      "source": [
        "# Dataset 6 (Celeb face)"
      ],
      "metadata": {
        "id": "-Q97vaC3NlqR"
      }
    },
    {
      "cell_type": "code",
      "source": [
        "from google.colab import drive\n",
        "drive.mount('/content/drive')"
      ],
      "metadata": {
        "colab": {
          "base_uri": "https://localhost:8080/"
        },
        "id": "H5H0sxy_4QYm",
        "outputId": "1bf55cd9-3a7f-44de-f314-e04c5e79b8b3"
      },
      "execution_count": 3,
      "outputs": [
        {
          "output_type": "stream",
          "name": "stdout",
          "text": [
            "Drive already mounted at /content/drive; to attempt to forcibly remount, call drive.mount(\"/content/drive\", force_remount=True).\n"
          ]
        }
      ]
    },
    {
      "cell_type": "code",
      "source": [
        "path_to_model = \"/content/drive/MyDrive/Generative_AI/datasets/celebA/model\"\n",
        "path_to_output = \"/content/drive/MyDrive/Generative_AI/datasets/celebA/output\""
      ],
      "metadata": {
        "id": "rnxO1SFI4UQn"
      },
      "execution_count": 4,
      "outputs": []
    },
    {
      "cell_type": "markdown",
      "source": [
        "preprocessing"
      ],
      "metadata": {
        "id": "QzT5im-Dog4L"
      }
    },
    {
      "cell_type": "code",
      "source": [
        "import os\n",
        "import numpy as np\n",
        "from PIL import Image\n",
        "from torchvision import transforms\n",
        "\n",
        "# Imposta il percorso della cartella contenente le immagini\n",
        "#scarica prima img_align_celeba.zip da https://drive.google.com/drive/u/0/folders/0B7EVK8r0v71pWEZsZE9oNnFzTm8?resourcekey=0-5BR16BdXnb8hVj6CNHKzLg\n",
        "folder_path = \"/content/drive/MyDrive/Generative_AI/datasets/celebA/all\"\n",
        "\n",
        "# Imposta le dimensioni di resize desiderate\n",
        "resize_to = 100  # Specifica la larghezza (W) e l'altezza (H)\n",
        "max_value = 20\n",
        "\n",
        "# Crea una lista per salvare le immagini pre-elaborate\n",
        "processed_images = []\n",
        "\n",
        "# Crea una trasformazione di pre-elaborazione utilizzando torchvision.transforms.Compose\n",
        "preprocess = transforms.Compose([\n",
        "    transforms.Resize((resize_to,resize_to)),\n",
        "    transforms.Grayscale(),\n",
        "    transforms.ToTensor(),\n",
        "    transforms.Normalize(0, max_value),\n",
        "])\n",
        "\n",
        "# Itera sui file nella cartella\n",
        "i=0\n",
        "for file_name in os.listdir(folder_path):\n",
        "    print(i+1,\" -> \",file_name)\n",
        "    i=i+1\n",
        "    # Crea il percorso completo del file\n",
        "    file_path = os.path.join(folder_path, file_name)\n",
        "\n",
        "    # Carica l'immagine utilizzando PIL\n",
        "    image = Image.open(file_path)\n",
        "\n",
        "    # Applica le trasformazioni di pre-elaborazione all'immagine\n",
        "    processed_image = preprocess(image)\n",
        "\n",
        "    # Aggiungi l'immagine pre-elaborata alla lista\n",
        "    processed_images.append(processed_image)\n",
        "\n",
        "# Converte la lista di immagini in una matrice numpy\n",
        "image_matrix = np.stack(processed_images)\n",
        "\n",
        "# Ottieni le dimensioni della matrice delle immagini\n",
        "N, W, H = image_matrix.shape[0], image_matrix.shape[1], image_matrix.shape[2]\n",
        "\n",
        "# Visualizza le dimensioni della matrice delle immagini\n",
        "print(\"Dimensioni della matrice delle immagini:\", (N, W, H))\n"
      ],
      "metadata": {
        "id": "xRd1dvr1oh3n"
      },
      "execution_count": null,
      "outputs": []
    },
    {
      "cell_type": "code",
      "source": [
        "import numpy as np\n",
        "# Imposta il percorso del file di output\n",
        "file_path = \"/content/drive/MyDrive/Generative_AI/datasets/celebA/celebA.npy\"\n",
        "\n",
        "# Salva l'array nel file utilizzando np.save()\n",
        "np.save(file_path, processed_images)\n",
        "\n",
        "print(\"Array salvato correttamente.\")\n"
      ],
      "metadata": {
        "id": "jyQ99tm5c1WM"
      },
      "execution_count": null,
      "outputs": []
    },
    {
      "cell_type": "code",
      "source": [
        "file_path = \"/content/drive/MyDrive/Generative_AI/datasets/celebA/celebA.npy\"\n",
        "dataset = np.load(file_path,allow_pickle=True)\n",
        "\n",
        "dataset.size"
      ],
      "metadata": {
        "colab": {
          "base_uri": "https://localhost:8080/"
        },
        "id": "AE6ExjRUeg7x",
        "outputId": "8a94399a-7800-464d-a04a-16a0f29d1a3e"
      },
      "execution_count": 5,
      "outputs": [
        {
          "output_type": "execute_result",
          "data": {
            "text/plain": [
              "28638"
            ]
          },
          "metadata": {},
          "execution_count": 5
        }
      ]
    },
    {
      "cell_type": "code",
      "source": [
        "image_matrix = np.stack(dataset)\n",
        "image_matrix.squeeze(1).shape"
      ],
      "metadata": {
        "colab": {
          "base_uri": "https://localhost:8080/"
        },
        "id": "8OpykpldjH3M",
        "outputId": "6e36d82f-3e0b-44f2-ef5d-77d57b7241d8"
      },
      "execution_count": 6,
      "outputs": [
        {
          "output_type": "execute_result",
          "data": {
            "text/plain": [
              "(28638, 100, 100)"
            ]
          },
          "metadata": {},
          "execution_count": 6
        }
      ]
    },
    {
      "cell_type": "code",
      "source": [
        "from scipy import ndimage\n",
        "import torchvision.transforms as transforms\n",
        "\n",
        "resize_to = 90\n",
        "\n",
        "# Converti ndarray in tensor PyTorch\n",
        "input_tensor = torch.from_numpy(image_matrix)\n",
        "\n",
        "\n",
        "# Crea una trasformazione per il ridimensionamento\n",
        "resize = transforms.Resize((resize_to, resize_to))\n",
        "\n",
        "\n",
        "# Applica la trasformazione al tensor\n",
        "output_tensor = resize(input_tensor)\n",
        "\n",
        "# Converti il tensor in ndarray\n",
        "image_matrix = output_tensor.numpy()\n",
        "\n"
      ],
      "metadata": {
        "id": "32Jg1CjUlIvF",
        "colab": {
          "base_uri": "https://localhost:8080/"
        },
        "outputId": "42d7663f-9333-478f-abe7-7b5097d0e3ae"
      },
      "execution_count": 7,
      "outputs": [
        {
          "output_type": "stream",
          "name": "stderr",
          "text": [
            "/usr/local/lib/python3.10/dist-packages/torchvision/transforms/functional.py:1603: UserWarning: The default value of the antialias parameter of all the resizing transforms (Resize(), RandomResizedCrop(), etc.) will change from None to True in v0.17, in order to be consistent across the PIL and Tensor backends. To suppress this warning, directly pass antialias=True (recommended, future default), antialias=None (current default, which means False for Tensors and True for PIL), or antialias=False (only works on Tensors - PIL will still use antialiasing). This also applies if you are using the inference transforms from the models weights: update the call to weights.transforms(antialias=True).\n",
            "  warnings.warn(\n"
          ]
        }
      ]
    },
    {
      "cell_type": "code",
      "source": [
        "max_value = 20\n",
        "image_matrix = (image_matrix*20*max_value).astype(int)"
      ],
      "metadata": {
        "id": "sSE9KKbx-ObA"
      },
      "execution_count": 7,
      "outputs": []
    },
    {
      "cell_type": "code",
      "source": [
        "plt.rcParams['figure.figsize'] = (5, 5) # set default size of plots\n",
        "plt.rcParams['image.interpolation'] = 'nearest'\n",
        "plt.rcParams['image.cmap'] = 'gray'\n",
        "#ogni riga è una immagine. Vediamo un esempio\n",
        "img1= image_matrix[100].squeeze(0)\n",
        "print(img1.shape)\n",
        "plt.imshow(img1)\n"
      ],
      "metadata": {
        "colab": {
          "base_uri": "https://localhost:8080/",
          "height": 484
        },
        "id": "5SPZNe28cDbm",
        "outputId": "168a5ab5-0349-43a5-93a7-6497b95da9b4"
      },
      "execution_count": 8,
      "outputs": [
        {
          "output_type": "stream",
          "name": "stdout",
          "text": [
            "(100, 100)\n"
          ]
        },
        {
          "output_type": "execute_result",
          "data": {
            "text/plain": [
              "<matplotlib.image.AxesImage at 0x7f43e5d22e90>"
            ]
          },
          "metadata": {},
          "execution_count": 8
        },
        {
          "output_type": "display_data",
          "data": {
            "text/plain": [
              "<Figure size 500x500 with 1 Axes>"
            ],
            "image/png": "[encoded data removed]"
          },
          "metadata": {}
        }
      ]
    },
    {
      "cell_type": "code",
      "source": [
        "#essendo ogni riga una immagine allora prendo le prime 50000 come training set, 5000 come validation set e il resto come test set\n",
        "training_data = image_matrix.squeeze(1)[0:26000]\n",
        "validation_data = image_matrix.squeeze(1)[26000:]\n",
        "#test_data = d.data[3000:4000]"
      ],
      "metadata": {
        "id": "GZJWw1YHd4A-"
      },
      "execution_count": 9,
      "outputs": []
    },
    {
      "cell_type": "code",
      "source": [
        "#hyperparameters\n",
        "resize_to = 100 # se hai fatto il resize prima, commenta\n",
        "input_shape_image = resize_to*resize_to\n",
        "possible_pixel_values = max_value+1 # ossia {0,1,...,20}"
      ],
      "metadata": {
        "id": "hw4SGPg8d4BJ"
      },
      "execution_count": 12,
      "outputs": []
    },
    {
      "cell_type": "code",
      "source": [
        "import gc\n",
        "\n",
        "#elimino per liberare memoria\n",
        "del image_matrix\n",
        "del dataset\n",
        "#forzo il garbage collector a operare adesso\n",
        "gc.collect()"
      ],
      "metadata": {
        "colab": {
          "base_uri": "https://localhost:8080/"
        },
        "id": "k-MNHWtvm2N_",
        "outputId": "735afa9c-830a-437a-db3c-c1c52b774540"
      },
      "execution_count": 13,
      "outputs": [
        {
          "output_type": "execute_result",
          "data": {
            "text/plain": [
              "45"
            ]
          },
          "metadata": {},
          "execution_count": 13
        }
      ]
    },
    {
      "cell_type": "markdown",
      "source": [
        "# DataLoader"
      ],
      "metadata": {
        "id": "TrqW_O67as26"
      }
    },
    {
      "cell_type": "markdown",
      "source": [
        "Non alleneremo la rete dandole tutti i dati, ma batch dopo batch. Creiamo quindi un DataLoader che semplicemente dividerà i dati in batch da 64 immagini (dopo averli mischiati) e ci restituirà, quando richiesto, un batch alla volta."
      ],
      "metadata": {
        "id": "mIp49CvLncr1"
      }
    },
    {
      "cell_type": "code",
      "source": [
        "training_loader = DataLoader(training_data, batch_size=32, shuffle=True)\n",
        "validation_loader = DataLoader(validation_data, batch_size=16, shuffle=True)\n",
        "#test_loader = DataLoader(test_data, batch_size=256, shuffle=True)"
      ],
      "metadata": {
        "id": "QO_kV43ulD3w"
      },
      "execution_count": 14,
      "outputs": []
    },
    {
      "cell_type": "markdown",
      "source": [
        "# Model (no-gpu ma più chiaro da comprendere) (Vedi sotto per la versione gpu)"
      ],
      "metadata": {
        "id": "s8rcWdkX9In4"
      }
    },
    {
      "cell_type": "markdown",
      "source": [
        "hyperparameters"
      ],
      "metadata": {
        "id": "8lQp7sWb9vC4"
      }
    },
    {
      "cell_type": "code",
      "source": [
        "\n",
        "#definisco la dimensione dello spazio latente\n",
        "latent_space_dimension = 32\n",
        "#nuumero di hidden neurons nell'encoder e decoder\n",
        "number_of_hidden_neurons = 256"
      ],
      "metadata": {
        "id": "5kwFVRrP9wHH"
      },
      "execution_count": 47,
      "outputs": []
    },
    {
      "cell_type": "markdown",
      "source": [
        "Encoder"
      ],
      "metadata": {
        "id": "bbcqmHWzzXTJ"
      }
    },
    {
      "cell_type": "code",
      "source": [
        "class Encoder(nn.Module):\n",
        "  def __init__(self, input_shape_image, latent_space_dimension, number_of_hidden_neurons, L):\n",
        "    super(Encoder,self).__init__()\n",
        "\n",
        "    #numero di campioni per l'approssimazione Monte-Carlo dell'Expected Value\n",
        "    self.L = L\n",
        "\n",
        "    self.input_shape_image = input_shape_image\n",
        "\n",
        "    self.latent_space_dimension = latent_space_dimension\n",
        "\n",
        "    self.encoder = nn.Sequential(nn.Linear(input_shape_image,number_of_hidden_neurons*2),\n",
        "                                 nn.LeakyReLU(),\n",
        "                                 nn.Linear(number_of_hidden_neurons*2,number_of_hidden_neurons),\n",
        "                                 nn.LeakyReLU(),\n",
        "                                 #moltiplico per 2 perchè voglio sia il vettore di media che std (diagonale)\n",
        "                                 nn.Linear(number_of_hidden_neurons,2*latent_space_dimension))\n",
        "    \n",
        "  def KL_loss(self,log_std_vector,mean_vector, batch_length):\n",
        "\n",
        "    '''\n",
        "      Per approssimare l'expected value E[ln(q|z)]-E[ln(p(z))] utilizzo un approccio \n",
        "      Monte-Carlo approssimando ciascun expected value con L volte le quantità interne\n",
        "      che ottengo per L campionamenti di z\n",
        "    '''\n",
        "    print(\"ENCODER: Calcolo KL_loss e ritorno dei vettori z\")\n",
        "    L = self.L\n",
        "\n",
        "    #contiene le KL_loss ottenute da ogni immagine\n",
        "    KL_loss = torch.zeros(batch_length)\n",
        "\n",
        "    #creo la prior p(z)=N(z|0,I), è sempre la stessa\n",
        "    p_z = MultivariateNormal(torch.zeros(self.latent_space_dimension), torch.eye(self.latent_space_dimension))\n",
        "\n",
        "    #nota che ho un vettore di medie e std per ogni immagine, quindi devo calcolare\n",
        "    #KL_loss diverse volte e poi alla fine ottenere un unico KL_loss per media\n",
        "    #print(\"Per \",batch_length, \" immagini...\")\n",
        "\n",
        "    #siccome al decoder serviranno gli stessi z che io qui sto campionando, allora me li salvo\n",
        "    z_sampled_per_image = torch.zeros(batch_length,L,self.latent_space_dimension)\n",
        "\n",
        "    for x_i in np.arange(batch_length):\n",
        "      print(\"   Considero immagine \"+str(x_i))\n",
        "      \n",
        "      mean_vector_i = mean_vector[x_i]\n",
        "      log_std_vector_i = log_std_vector[x_i]\n",
        "      print(\"     mean-vector \",mean_vector_i)\n",
        "      print(\"     std-vector \",log_std_vector_i)\n",
        "      #print(\"dimensione vettore medie: \",mean_vector_i.shape)\n",
        "      #print(\"dimensione vettore ln std: \",log_std_vector_i.shape)\n",
        "\n",
        "      #calcolo la distribuzione multivariata q(z|x) creata da quell'x\n",
        "      q_z_x = MultivariateNormal(mean_vector_i, torch.eye(self.latent_space_dimension)*torch.exp(log_std_vector_i))\n",
        "\n",
        "      #KL per l'immagine corrente\n",
        "      KL_per_image = 0\n",
        "      #le due due quantità che andranno sottratte per calcolare KL_per_image\n",
        "      quantity1 = 0\n",
        "      quantity2 = 0\n",
        "\n",
        "      print(\"     Campiono  \",L,\" vettori z\")\n",
        "      #campiono L vettori z\n",
        "      for i in np.arange(L):\n",
        "\n",
        "        #Campiono z^(i)\n",
        "\n",
        "        #campiono le 64 componenti z^(i)_j con la tecnica della reparametrizzazione\n",
        "        #converto il logaritmo della deviazione standard in deviazione standard pura\n",
        "        std = torch.exp(0.5*log_std_vector_i)\n",
        "        #print(std.shape)\n",
        "        #campiono N eps dove N è la dimensione del vettore eps (64) da una N(0,1)\n",
        "        eps = torch.randn_like(std)\n",
        "        #print(eps.shape)\n",
        "        #campiono le 64 componenti diz da N(u,E) che equivale a campionare \n",
        "        #ciascuna componente z_i come z_i = u_i + std_i*eps_i\n",
        "        z = mean_vector_i + std*eps\n",
        "        #z è una vettore (1,64)\n",
        "        #me lo salvo (servirà dopo al decoder)\n",
        "        z_sampled_per_image[x_i,i,:] = z\n",
        "        \n",
        "\n",
        "        #calcolo ln(q(z|x))\n",
        "        ln_q_z_x = q_z_x.log_prob(z)\n",
        "        \n",
        "        #da eliminare (TODO)\n",
        "        da_eliminare1 = -0.5 * z.shape[0] * torch.log(2. * PI) - 0.5 * log_std_vector_i - 0.5 * torch.exp(-log_std_vector_i) * (z - mean_vector_i)**2.\n",
        "        print(\"****** Confronto tra la mia ln(q(z|x) e quella del libro: \",ln_q_z_x, \"  VS  \",da_eliminare1.sum(-1), \"   con D=\",z.shape[0])\n",
        "        \n",
        "        #calcolo ln(p(z))\n",
        "        ln_p_z = p_z.log_prob(z)\n",
        "\n",
        "        #print(ln_q_z_x,\"   \",ln_p_z)\n",
        "        print(\"       Inserisco nella matrice di vettori campionati \",z_sampled_per_image, \" con ln(q(z|x))= \",ln_q_z_x, \" e ln(p(z))=\",ln_p_z)\n",
        "\n",
        "        quantity1 = quantity1 + ln_q_z_x #Sommatoria(ln(q(z|x)))\n",
        "        quantity2 = quantity2 + ln_p_z   #Sommatoria(ln(p(z)))\n",
        "        print(\"       Aggiorno le sommatorie -->Sommatoria(ln(q(z|x)))=\",quantity1,\"   Sommatoria(ln(p(z)))=\",quantity2)\n",
        "\n",
        "      #calcolo KL (Monte-Carlo) per la corrente immagine di input\n",
        "      # SUM(ln(q(z|x))) - SUM(ln(p(z)))\n",
        "      KL_per_image = quantity1/L - quantity2/L\n",
        "      print(\" Calcolo il KL_per_image=\", KL_per_image)\n",
        "      \n",
        "      #Terminato, ho la KL dell'immagine corrente, la salvo nel vettore\n",
        "      KL_loss[x_i] = KL_per_image\n",
        "      print(\" Aggiorno il KL_loss=\", KL_loss)\n",
        "    \n",
        "    #Terminato, avremo una KL_loss che conterrà le KL_loss di ogni immagine (sommate).\n",
        "    # Non ne calcolo la media adesso, ma dopo perchè ho bisogno del RE\n",
        "\n",
        "    return KL_loss,z_sampled_per_image\n",
        "\n",
        "\n",
        "    #La rete ritorna il vettore di media, std (diagonale) e la z campionata\n",
        "  def forward(self, x):\n",
        "    #flatto il batch (64, 28, 28) in (64, 784)\n",
        "    x = torch.flatten(x,1)\n",
        "    #print(x.shape)\n",
        "    #do alla rete x e prelevo vettore di media e std (diagonale)\n",
        "    output = self.encoder(x)\n",
        "    #print(output.shape)\n",
        "    #divido il risultato in due parti: media e std (diagonale)(logaritmica)\n",
        "    mean_vector, log_std_vector = torch.chunk(output, 2, dim=1)\n",
        "    #print(mean_vector.shape)\n",
        "    #print(log_std_vector.shape)\n",
        "\n",
        "\n",
        "    #Calcoliamo la prima parte della Loss, chiamata KL(q(u,E)||p(z)) dove per semplicità\n",
        "    #approssimiamo l'expected value con un Monte-Carlo approach di L pari a L.\n",
        "    #La loss ottenuta è un vettore contenente la KL per ogni immagine\n",
        "    KL_loss_vector, z_samples_per_image = self.KL_loss(log_std_vector,mean_vector, x.shape[0])\n",
        "    #print(\"KL_loss \",KL_loss)\n",
        "    print(\"Encoder (forward): ritorno quanto ottenuto\")\n",
        "    print(\" Kl-loss  -> \",KL_loss_vector)\n",
        "    print(\" z-samples  ->\",z_samples_per_image)\n",
        "    return KL_loss_vector,z_samples_per_image\n",
        "\n"
      ],
      "metadata": {
        "id": "xsTiW9ZP9JSi"
      },
      "execution_count": 48,
      "outputs": []
    },
    {
      "cell_type": "markdown",
      "source": [
        "Decoder"
      ],
      "metadata": {
        "id": "29J5G_vGzZSN"
      }
    },
    {
      "cell_type": "code",
      "source": [
        "class Decoder(nn.Module):\n",
        "  def __init__(self, input_shape_image,latent_space_dimension, number_of_hidden_neurons, possible_pixel_values, L):\n",
        "    super(Decoder,self).__init__()\n",
        "\n",
        "    self.L = L\n",
        "\n",
        "    self.input_shape_image = input_shape_image\n",
        "\n",
        "    self.latent_space_dimension = latent_space_dimension\n",
        "\n",
        "    self.possible_pixel_values = possible_pixel_values\n",
        "\n",
        "    self.decoder = nn.Sequential(nn.Linear(latent_space_dimension,number_of_hidden_neurons),\n",
        "                                 nn.LeakyReLU(),\n",
        "                                 nn.Linear(number_of_hidden_neurons,number_of_hidden_neurons*2),\n",
        "                                 nn.LeakyReLU(),\n",
        "                                 nn.Linear(number_of_hidden_neurons*2, input_shape_image*possible_pixel_values),\n",
        "                                 )\n",
        "    \n",
        "  \n",
        "  def sample(self):\n",
        "    #creo la prior p(z)=N(z|0,I), è sempre la stessa\n",
        "    p_z = MultivariateNormal(torch.zeros(self.latent_space_dimension), torch.eye(self.latent_space_dimension))\n",
        "    z_sample = p_z.sample()\n",
        "\n",
        "\n",
        "    #inietto nel decoder:\n",
        "    z_sample = z_sample.unsqueeze(0)\n",
        "\n",
        "    #(1,1,784*256)\n",
        "    logits = self.decoder(z_sample)\n",
        "\n",
        "    #(1,784,256)\n",
        "    logits = logits.reshape(1, self.input_shape_image, self.possible_pixel_values )\n",
        "\n",
        "    probabilities = torch.softmax(logits, dim=-1)\n",
        "    #non applico la softmax per convertirli in probabilità perchè\n",
        "    #la multinomial di torch accetta anche le logits\n",
        "    probabilities = probabilities.view(-1, self.possible_pixel_values)\n",
        "\n",
        "    sample = torch.multinomial(probabilities, num_samples=1)\n",
        "\n",
        "    x = sample.view(self.input_shape_image) \n",
        "    return x\n",
        "\n",
        "\n",
        "\n",
        "  #alla rete inietto lo z campionato da q(z|x) ma anche l'x che deve ricostruire\n",
        "  def forward(self, z, x):\n",
        "    \n",
        "    x = torch.flatten(x,1)\n",
        "    '''\n",
        "      il decoder da in output 784*256 probabilità per ciascuna z\n",
        "      Avendo (N, L, 64) con N numero di immagini, L=10 z campionati e 64 \n",
        "      ciascuna lunghezza, allora il decoder produrrà (N,L, 784*256), ossia\n",
        "      per ogni immagine le probabilità che ha x per ogni z campionato\n",
        "    '''\n",
        "    output_probabilities = self.decoder(z)\n",
        "\n",
        "    '''\n",
        "      Voglio calcolare la discrepanza tra l'x predetto dallo z^(i) e l'x vero.\n",
        "      Siccome ho L vettori z e per ciscuno le pseudo probabilità, allora \n",
        "    '''\n",
        "    batch_size = x.shape[0]\n",
        "\n",
        "    L = self.L\n",
        "\n",
        "    #qui salvo il reconstruction error finale\n",
        "    RE = 0\n",
        "    #per ogni batch di immagini calcolo la discrepanza tra loro e ciò che il \n",
        "    #vettore z^(i) ha prodotto\n",
        "    #print(x.shape)\n",
        "    for i in np.arange(L):\n",
        "\n",
        "      #prendo per ogni immagine, le pseudo probabilità che ha generato z^(i)\n",
        "      #quindi ho (N, 784*256)\n",
        "      output_probabilities_zi = output_probabilities[:,i,:]\n",
        "      #faccio il reshape in maniera tale da avere (N, 784, 256), quindi\n",
        "      #per ciascuno dei 784 pixel i 256 valori di pseudo probabilità\n",
        "      output_probabilities_zi = output_probabilities_zi.reshape(batch_size, self.input_shape_image, self.possible_pixel_values )\n",
        "      #applico la softmax per convertirli in probabilità\n",
        "      output_probabilities_zi = torch.softmax(output_probabilities_zi,2)\n",
        "\n",
        "      EPS = 1.e-5\n",
        "      #Per ogni immagine calcolo ln(p(x|z^i))=ln(p(x1|z^i))+..+ln(p(x784|z^i))\n",
        "      #trasformo ogni pixel di ogni immagine in one hot encoding\n",
        "      x_one_hot = F.one_hot(x.long(), num_classes = self.possible_pixel_values)\n",
        "      #calcolo il logaritmo delle probabilità e seleziono solo quelle che mi interessano\n",
        "      log_p = x_one_hot * torch.log(torch.clamp(output_probabilities_zi, EPS,1. - EPS))\n",
        "      #per ogni pixel di una immagine isolo solo la probabilità finale di accadere\n",
        "      vector_of_probabilities_per_image = torch.sum(log_p, dim=2) \n",
        "      #per ogni immagine sommo tutti i logaritmi di probabilità dei pixel\n",
        "      RE_per_image = vector_of_probabilities_per_image.sum(dim=1)\n",
        "      \n",
        "      #ogni RE_per_image ha dimensione (N), ossia contiene per un certo x degli N\n",
        "      # la ln(p(x|z^i)). La sommo a quella ottenuta con i precedenti z^i\n",
        "      RE = RE + RE_per_image\n",
        "      \n",
        "      \n",
        "      '''\n",
        "      print(output_probabilities_zi.shape)\n",
        "      print(output_probabilities_zi.sum(2).shape)\n",
        "      print(log_p.shape)\n",
        "      print(RE_per_image.shape)\n",
        "      print(RE_per_image)\n",
        "      '''\n",
        "    \n",
        "    '''\n",
        "      Per ogni immagine x io volevo come reconstruction error (RE) una approssimazione\n",
        "      dell'expected value E[p(x|z^i)], ossia 1/L*Sum(ln(p(x|z^i))). Il vettore mle contiene\n",
        "      nella posizione i-esima proprio tale Sum relativa all'immagine i-esima. Dividiamo\n",
        "      quindi il vettore per L cosi da ottenerne la media\n",
        "    '''\n",
        "    RE = RE / L\n",
        "\n",
        "    #Ho un RE per ogni immagine. Non ne calcolo la media perchè devo considerare il KL\n",
        "\n",
        "    return RE\n",
        "\n",
        "\n",
        "    \n",
        "    #converto il batch x nel formato (N,1,28,28) cosi da applicare un codice che \n",
        "    #conosco già per un rapido calcolo della sparse cross entropy\n",
        "  \n"
      ],
      "metadata": {
        "id": "_GF1-JrRzZ9t"
      },
      "execution_count": 49,
      "outputs": []
    },
    {
      "cell_type": "markdown",
      "source": [
        "VAE"
      ],
      "metadata": {
        "id": "OBFIha8nSBwq"
      }
    },
    {
      "cell_type": "code",
      "source": [
        "class VAE(nn.Module):\n",
        "  def __init__(self, possible_pixel_values, input_shape_image, latent_space_dimension, number_of_hidden_neurons,L ):\n",
        "    super(VAE, self).__init__()\n",
        "\n",
        "    self.encoder = Encoder(input_shape_image,latent_space_dimension,number_of_hidden_neurons,L)\n",
        "    self.decoder = Decoder(input_shape_image,latent_space_dimension,number_of_hidden_neurons,possible_pixel_values,L)\n",
        "\n",
        "  def sample(self):\n",
        "    return self.decoder.sample()\n",
        "\n",
        "  def forward(self, x):\n",
        "    #inietto x nell'encoder per ottenere la KL loss e i vettori z campionati (Monte-Carlo)\n",
        "    KL_loss, z_samples_per_image = self.encoder.forward(x)\n",
        "\n",
        "    #inietto nel decoder x per essere ricostruito attraverso gli stessi campioni z\n",
        "    #e per ottenere il reconstruction error\n",
        "    RE_loss = self.decoder.forward(z_samples_per_image,x)\n",
        "\n",
        "    #sommo per ottenere una approssimazione del ln(p(x))\n",
        "    ln_p = KL_loss - RE_loss\n",
        "\n",
        "    #calcolo la media del batch\n",
        "    ln_p_mean = ln_p.mean()\n",
        "\n",
        "    return ln_p_mean"
      ],
      "metadata": {
        "id": "-rQHftd-SC0D"
      },
      "execution_count": 50,
      "outputs": []
    },
    {
      "cell_type": "markdown",
      "source": [
        "# Model (adattato per gpu)"
      ],
      "metadata": {
        "id": "7iZsvZOfgOgW"
      }
    },
    {
      "cell_type": "markdown",
      "source": [
        "hyperparameters"
      ],
      "metadata": {
        "id": "ddzRWuW7gSUI"
      }
    },
    {
      "cell_type": "code",
      "source": [
        "\n",
        "#definisco la dimensione dello spazio latente\n",
        "latent_space_dimension = 45\n",
        "#nuumero di hidden neurons nell'encoder e decoder\n",
        "number_of_hidden_neurons = 128"
      ],
      "metadata": {
        "id": "AlmydjlygSUI"
      },
      "execution_count": 15,
      "outputs": []
    },
    {
      "cell_type": "markdown",
      "source": [
        "Encoder"
      ],
      "metadata": {
        "id": "AHj2x6M4gSUJ"
      }
    },
    {
      "cell_type": "code",
      "source": [
        "class Encoder(nn.Module):\n",
        "  def __init__(self, input_shape_image, latent_space_dimension, number_of_hidden_neurons, L,type_of_encoder = 2):\n",
        "    super(Encoder,self).__init__()\n",
        "\n",
        "    #numero di campioni per l'approssimazione Monte-Carlo dell'Expected Value\n",
        "    self.L = L\n",
        "\n",
        "    self.type_of_encoder = type_of_encoder\n",
        "\n",
        "    self.input_shape_image = input_shape_image\n",
        "\n",
        "    self.latent_space_dimension = latent_space_dimension\n",
        "\n",
        "    self.encoder = nn.Sequential(nn.Linear(input_shape_image,number_of_hidden_neurons*2),\n",
        "                                 nn.LeakyReLU(),\n",
        "                                 nn.Linear(number_of_hidden_neurons*2,number_of_hidden_neurons),\n",
        "                                 nn.LeakyReLU(),\n",
        "                                 #moltiplico per 2 perchè voglio sia il vettore di media che std (diagonale)\n",
        "                                 nn.Linear(number_of_hidden_neurons,2*latent_space_dimension))\n",
        "    \n",
        "    self.encoder2 = nn.Sequential()\n",
        "    '''nn.Sequential(nn.Conv2d(1, 64, kernel_size=3, stride=1, padding=1),\n",
        "                                  nn.Conv2d(64, 32, kernel_size=3, stride=1, padding=1),\n",
        "                                  nn.Conv2d(32, 16, kernel_size=3, stride=1, padding=1),\n",
        "                                  nn.Conv2d(16, 1, kernel_size=3, stride=1, padding=1),\n",
        "                                  nn.Flatten(),\n",
        "                                  nn.Linear(input_shape_image*1,2*latent_space_dimension),\n",
        "                                  nn.LeakyReLU())'''\n",
        "\n",
        "  def KL_loss(self,log_std_vector,mean_vector, batch_length):\n",
        "\n",
        "    L = self.L \n",
        "\n",
        "    #print(\"Mean-vector\", str(mean_vector), \"  shape:\",mean_vector.shape)\n",
        "    #print(\"log-Std-vector\", str(log_std_vector), \"  shape:\",log_std_vector.shape)\n",
        "\n",
        "    #trasformo i logaritmi delle std in std\n",
        "    std_vector = torch.exp(log_std_vector)\n",
        "\n",
        "    #print(\"Std vectors: \",std_vector.device)\n",
        "\n",
        "    #siccome devo avere una matrice positiva definita (cholesky decomposition) devo\n",
        "    #assicurarmi che i valori nelle diagonali non siano proprio zero\n",
        "    EPS = 1.e-5\n",
        "    std_vector = torch.clamp(std_vector, EPS,1. - EPS)\n",
        "\n",
        "    #trasformo le sequenze di varianze in matrici diagonali (covarianza)\n",
        "    covariance_matrixes = torch.diag_embed(std_vector)\n",
        "\n",
        "    #print(\"Matrici di covarianza\",covariance_matrixes.device, \"  di shape \", covariance_matrixes.shape )\n",
        "\n",
        "    #calcolo N distribuzioni  multivariate q(z|x) creata da ognuno degli N x\n",
        "    q_z_x = MultivariateNormal(mean_vector, covariance_matrixes)\n",
        "\n",
        "    '''\n",
        "      per ciascuna distribuzione campiono L vettori z\n",
        "      Nota però che anche se campiono L vettori da ciascuna, il risultato\n",
        "      conterrà i primi N vettori z campionati, poi i secondi N e cosi via fino\n",
        "      agli L-esimi. Per esempio i primi due z1 e z2 sono stati campionati da due\n",
        "      distribuzioni diverse! Quindi non ho blocchi da L vettori z appartenenti \n",
        "      alla stessa distribuzione!\n",
        "    '''\n",
        "    #dimensione (L, num_distribuzioni, dim_latente)\n",
        "    z_samples = q_z_x.rsample((L,)) #r sta per \"reparametrization trick\"\n",
        "    #print(\"samples: \", z_samples.device)\n",
        "    #print(\"Shape samples: \", z_samples.shape)\n",
        "\n",
        "    '''\n",
        "      calcolo per ciascuno e sulla rispettiva distribuzione il log della prob\n",
        "      Ho una matrice (L, N), dove ogni \"colonna\" contiene le probabilità degli\n",
        "      z campionati dalla \"stessa\" distribuzione. \n",
        "    '''\n",
        "    z_log_probs = q_z_x.log_prob(z_samples)\n",
        "    #print(\"log q(z|x)\",z_log_probs.device)\n",
        "    #print(\"Shape q(z|x): \", z_log_probs.shape)\n",
        "\n",
        "    '''\n",
        "      Per ogni sample z calcolo la p(z). Otterrò una matrice (L, N), dove ogni \n",
        "      \"colonna\" contiene le probabilità degli z campionati dalla \"stessa\" distribuzione q(z|x)\n",
        "    '''\n",
        "    #creo la prior p(z)=N(z|0,I), è sempre la stessa\n",
        "    p_z = MultivariateNormal(torch.zeros(self.latent_space_dimension).to(device), torch.eye(self.latent_space_dimension).to(device))\n",
        "\n",
        "    ln_p_z = p_z.log_prob(z_samples)\n",
        "\n",
        "    #print(\"ln_p(z)=\",ln_p_z.device)\n",
        "    #print(\"Shape di ln(p(z)) \",ln_p_z.shape)\n",
        "\n",
        "    '''\n",
        "      Ora per ogni immagine x io ho campionato L vettori z e per ciascuno ho\n",
        "      valutato sia ln(q(z|x)) che ln(p(z)). Per ogni immagine io volevo calcolare\n",
        "      l'expected value approssimandolo (Monte Carlo) come:\n",
        "\n",
        "                        KL = [Sum(ln(q(z|x)))/L - Sum(ln(p(z))/L)\n",
        "\n",
        "      Per ottenere la prima sommatoria, sommo le colonne di z_log_probs, mentre\n",
        "      per la seconda sommo le colonne della matrice ln_p_z. Dopodichè, ottenuti\n",
        "      due vettori, li divido per L e li sottraggo tra cosi da ottenere l'approssimazione\n",
        "      della KL per ogni immagine x in ingresso\n",
        "    '''\n",
        "\n",
        "    KL_per_image = z_log_probs.sum(0)/L - ln_p_z.sum(0)/L\n",
        "    #print(\"KL_per_image\",KL_per_image.device)\n",
        "    \n",
        "    return KL_per_image,z_samples\n",
        "  \n",
        "\n",
        "    #La rete ritorna il vettore di media, std (diagonale) e la z campionata\n",
        "  def forward(self, x):\n",
        "    if (self.type_of_encoder == 1 or self.type_of_encoder == 2):\n",
        "      #flatto il batch (64, 28, 28) in (64, 784)\n",
        "      x = torch.flatten(x,1)#.to(device)\n",
        "      #do alla rete x e prelevo vettore di media e std (diagonale)\n",
        "      output = self.encoder(x)#.to(device)\n",
        "    else:\n",
        "      x = x.unsqueeze(1)\n",
        "      #do alla rete x e prelevo vettore di media e std (diagonale)\n",
        "      output = self.encoder2(x)#.to(device)\n",
        "\n",
        "\n",
        "    #print(output.device)\n",
        "    #print(output.shape)\n",
        "    #divido il risultato in due parti: media e std (diagonale)(logaritmica)\n",
        "    mean_vector, log_std_vector = torch.chunk(output, 2, dim=1)\n",
        "    #print(mean_vector.device)\n",
        "    #print(log_std_vector.device)\n",
        "\n",
        "\n",
        "    '''\n",
        "      Ottengo un KL_error (N,) contenente per ogni immagine il relativo KL_error,\n",
        "      e poi una matrice z_samples (L, N, dim_latente)\n",
        "    '''\n",
        "    KL_per_image, z_samples = self.KL_loss(log_std_vector,mean_vector, x.shape[0])\n",
        "    #print(\"KL_per_image: \",KL_per_image)\n",
        "    #print(\"Z-samples:\", z_samples)\n",
        "\n",
        "    return KL_per_image,z_samples\n",
        "\n"
      ],
      "metadata": {
        "id": "RW_qKC6tgSUJ"
      },
      "execution_count": 17,
      "outputs": []
    },
    {
      "cell_type": "markdown",
      "source": [
        "Decoder"
      ],
      "metadata": {
        "id": "8XD2UZLYgSUJ"
      }
    },
    {
      "cell_type": "code",
      "source": [
        "class Decoder(nn.Module):\n",
        "  def __init__(self, input_shape_image,latent_space_dimension, number_of_hidden_neurons, possible_pixel_values, L, type_of_decoder = 2):\n",
        "    super(Decoder,self).__init__()\n",
        "\n",
        "    self.L = L\n",
        "\n",
        "    self.type_of_decoder = type_of_decoder\n",
        "\n",
        "    self.input_shape_image = input_shape_image\n",
        "\n",
        "    self.latent_space_dimension = latent_space_dimension\n",
        "\n",
        "    self.possible_pixel_values = possible_pixel_values\n",
        "\n",
        "    self.decoder = nn.Sequential(nn.Linear(latent_space_dimension,number_of_hidden_neurons),\n",
        "                                 nn.LeakyReLU(),\n",
        "                                 nn.Linear(number_of_hidden_neurons,number_of_hidden_neurons*2),\n",
        "                                 nn.LeakyReLU(),\n",
        "                                 nn.Linear(number_of_hidden_neurons*2,number_of_hidden_neurons*3),\n",
        "                                 nn.LeakyReLU(),\n",
        "                                 nn.Linear(number_of_hidden_neurons*3, input_shape_image*possible_pixel_values),\n",
        "                                 )\n",
        "    \n",
        "    self.decoder2 = nn.Sequential()\n",
        "    '''\n",
        "                                nn.Linear(latent_space_dimension, input_shape_image * 16),\n",
        "                                nn.Unflatten(2, (input_shape_image, 16)),\n",
        "                                nn.ConvTranspose2d(input_shape_image, 16, kernel_size=3, stride=1, padding=1),\n",
        "                                nn.ConvTranspose2d(16, 32, kernel_size=3, stride=1, padding=1),\n",
        "                                nn.ConvTranspose2d(32, 64, kernel_size=3, stride=1, padding=1),\n",
        "                                nn.ConvTranspose2d(64, 1, kernel_size=3, stride=1, padding=1),\n",
        "                                nn.Flatten(),\n",
        "                                nn.Linear(input_shape_image*16, input_shape_image*possible_pixel_values)\n",
        "                            )'''\n",
        "\n",
        "  \n",
        "  def sample(self):\n",
        "    #creo la prior p(z)=N(z|0,I), è sempre la stessa\n",
        "    p_z = MultivariateNormal(torch.zeros(self.latent_space_dimension), torch.eye(self.latent_space_dimension))\n",
        "    z_sample = p_z.sample().to(device)\n",
        "    #print(\"z_sample \",z_sample.device)\n",
        "\n",
        "\n",
        "    #inietto nel decoder:\n",
        "    z_sample = z_sample.unsqueeze(0)\n",
        "\n",
        "    if self.type_of_decoder == 1:\n",
        "          #(1,1,784*256)\n",
        "      logits = self.decoder(z_sample)\n",
        "    else:\n",
        "      logits = self.decoder(z_sample)\n",
        "\n",
        "\n",
        "    #(1,784,256)\n",
        "    logits = logits.reshape(1, self.input_shape_image, self.possible_pixel_values )\n",
        "\n",
        "    probabilities = torch.softmax(logits, dim=-1)\n",
        "    #non applico la softmax per convertirli in probabilità perchè\n",
        "    #la multinomial di torch accetta anche le logits\n",
        "    probabilities = probabilities.view(-1, self.possible_pixel_values)\n",
        "\n",
        "    sample = torch.multinomial(probabilities, num_samples=1)\n",
        "\n",
        "    x = sample.view(self.input_shape_image) \n",
        "    return x\n",
        "\n",
        "\n",
        "  def forward(self, z, x):\n",
        "    #z è una matrice (L, N, dim_latente), la inietto nel decoder per ottenere\n",
        "    #le logits \n",
        "    #print(\"Decoder forward\")\n",
        "    \n",
        "    #Le logits hanno forma (L,N, numero_pixel*possibili_valori)\n",
        "    #print(\"Z dimension: \", z.shape)\n",
        "    if self.type_of_decoder == 1:\n",
        "      logits = self.decoder(z).to(device)\n",
        "    else:\n",
        "      logits = self.decoder(z).to(device)\n",
        "    #print(\"Logits\",logits.device)\n",
        "\n",
        "    '''\n",
        "      Prima di convertire le logits in probabilità, ciascun vettore del tensore\n",
        "      contiene i logits di TUTTI i pixel [px1-v=v1,...,px1-v=vk, px2-v=1,....], quindi\n",
        "      devo prima fare un reshape del genere [[px1-v=v1,...,px1-v=vk], [...]] isolando\n",
        "      solo le probabilità di ogni pixel\n",
        "    \n",
        "    '''\n",
        "    #(L, N, numero_pixel, possibili_valori)\n",
        "    logits = logits.reshape((logits.shape[0],logits.shape[1],self.input_shape_image,self.possible_pixel_values))\n",
        "    #applico la softmax per convertire le logits in probabilità\n",
        "    probabilities = torch.softmax(logits,3)\n",
        "    #print(\"probabilities\",probabilities.device)\n",
        "\n",
        "    #correggo (per questioni di stabilità) le probabilità troppo basse \n",
        "    #Devono stare tra 0+EPS < p < 1-EPS\n",
        "    EPS = 1.e-5\n",
        "    probabilities = torch.clamp(probabilities, EPS,1. - EPS)\n",
        "    #print(\"probabilities \",probabilities.device)\n",
        "    '''\n",
        "      Per ogni z iniettato ho ottenuto delle probabilità. Siccome voglio valutare\n",
        "      l'expected value seguente:\n",
        "                              E[ln(p(x|z))]\n",
        "      e sicome lo voglio approssimare con gli L ln(p(x|z)) ottenuti, ossia:\n",
        "                              E[ln(p(x|z))] = 1/L*Sum(ln(p(x|z)))\n",
        "      allora tutti i calcoli seguenti servono solo a poter ottenere per ciascuna\n",
        "      immagine x tutti i ln(p(x|z)), in particolare:\n",
        "      1) Per ogni z ho una matrice di dimensione(numero_pixel, probabilità_valori) \n",
        "         e quindi estraggo la probabilità che ha quella particolare componente xi\n",
        "         in ingresso.\n",
        "      2) Alla fine per ogni coppia x e z ho un vettore di probabilità per xi, quindi\n",
        "         quella di x è calcolabile come:\n",
        "                              p(x|z)=p(x1|z)*p(x2|z)*...*p(xk|z)\n",
        "         Se però calcolo il logaritmo, che è quello che voglio posso sommarli:\n",
        "                              ln(p(x|z))=ln(p(x1|z))+ln(p(x2|z))+...+ln(p(xk|z))\n",
        "      3) Avendone L li sommo e li divido per L\n",
        "\n",
        "    '''\n",
        "    #converto ogni pixel in un vettore one_hot\n",
        "    x_one_hot = F.one_hot(x.long(), num_classes = self.possible_pixel_values)\n",
        "    #print(\"ONE-HOT\", x_one_hot.device)\n",
        "    x_one_hot = x_one_hot.reshape(x_one_hot.shape[0],x_one_hot.shape[1]*x_one_hot.shape[2]*x_one_hot.shape[3])\n",
        "    #print(\"ONE-HOT reshaped \",x_one_hot.device)\n",
        "    probabilities = probabilities.reshape(probabilities.shape[0],probabilities.shape[1],probabilities.shape[2]*probabilities.shape[3])\n",
        "    #li converto in logaritmi\n",
        "    log_probabilities = torch.log(probabilities)\n",
        "    #print(\"Probabilities \", probabilities.device)\n",
        "    selected_log_probabilities = x_one_hot * log_probabilities\n",
        "    #adesso in un unico vettore ho tutti le ln(p(x_i|z)) per lo z. \n",
        "    #print(\"Log Selected probabilities \", selected_log_probabilities.device)\n",
        "    #li sommo (L,N), ossia ogni vettore contiene gli ln(p(x|z)) per gli N x\n",
        "    ln_p_x_z = selected_log_probabilities.sum(2)\n",
        "    #print(\"ln(p(x|z) \", ln_p_x_z.device)\n",
        "    #ogni colonna contiene quindi gli ln(p(x|z)) per lo stesso x.\n",
        "    #li sommo e li divido per L ottenenedo il reconstruction error per ogni x\n",
        "    RE_per_image = ln_p_x_z.sum(0) / self.L\n",
        "    #print(\"RE_per_image\",RE_per_image.device)\n",
        "\n",
        "    return RE_per_image\n",
        "  \n"
      ],
      "metadata": {
        "id": "hRYe21JJgSUJ"
      },
      "execution_count": 18,
      "outputs": []
    },
    {
      "cell_type": "markdown",
      "source": [
        "VAE"
      ],
      "metadata": {
        "id": "M_VcPGCMgSUK"
      }
    },
    {
      "cell_type": "code",
      "source": [
        "class VAE(nn.Module):\n",
        "  def __init__(self, possible_pixel_values, input_shape_image, latent_space_dimension, number_of_hidden_neurons,L, type_of ):\n",
        "    super(VAE, self).__init__()\n",
        "\n",
        "    self.encoder = Encoder(input_shape_image,latent_space_dimension,number_of_hidden_neurons,L,type_of)\n",
        "    self.decoder = Decoder(input_shape_image,latent_space_dimension,number_of_hidden_neurons,possible_pixel_values,L,type_of)\n",
        "\n",
        "  def sample(self):\n",
        "    return self.decoder.sample()\n",
        "\n",
        "  def forward(self, x):\n",
        "    #inietto x nell'encoder per ottenere la KL loss e i vettori z campionati (Monte-Carlo)\n",
        "    KL_loss_per_image, z_samples_per_image = self.encoder.forward(x)\n",
        "\n",
        "    #inietto nel decoder x per essere ricostruito attraverso gli stessi campioni z\n",
        "    #e per ottenere il reconstruction error\n",
        "    RE_loss_per_image = self.decoder.forward(z_samples_per_image,x)\n",
        "\n",
        "    #sommo per ottenere una approssimazione del ln(p(x)) per ogni immagine\n",
        "    ln_p = KL_loss_per_image - RE_loss_per_image\n",
        "\n",
        "    #calcolo la media del batch\n",
        "    ln_p_mean = ln_p.mean()\n",
        "\n",
        "    return ln_p_mean"
      ],
      "metadata": {
        "id": "2v7SZ8r8gSUK"
      },
      "execution_count": 19,
      "outputs": []
    },
    {
      "cell_type": "markdown",
      "source": [
        "# Training"
      ],
      "metadata": {
        "id": "u_P94_AwVz8o"
      }
    },
    {
      "cell_type": "code",
      "source": [
        "L=3 #for Monte Carlo"
      ],
      "metadata": {
        "id": "SVL6n1H4gYJd"
      },
      "execution_count": 20,
      "outputs": []
    },
    {
      "cell_type": "code",
      "source": [
        "model = VAE( possible_pixel_values, input_shape_image, latent_space_dimension, number_of_hidden_neurons, L, type_of = 1).to(device)"
      ],
      "metadata": {
        "id": "sJc48paqV04o"
      },
      "execution_count": 21,
      "outputs": []
    },
    {
      "cell_type": "code",
      "source": [
        "learning_rate = 1e-3\n",
        "#i parametri che l'optimizer deve ottimizzare sono tutti quelli del modello\n",
        "parameters_to_optimize = [p for p in model.parameters() if p.requires_grad == True]\n",
        "\n",
        "optimizer = torch.optim.Adamax(parameters_to_optimize, lr=learning_rate)"
      ],
      "metadata": {
        "id": "58k7uDJ-WLID"
      },
      "execution_count": 22,
      "outputs": []
    },
    {
      "cell_type": "code",
      "source": [
        "import math\n",
        "\n",
        "def sample_and_save(model, name, input_shape):\n",
        "\n",
        "  model.eval()\n",
        "\n",
        "  #voglio campionare 16 immagini e le voglio in una griglia 4x4\n",
        "  n=4\n",
        "  number_of_grid_cells = n*n\n",
        "  #quindi dico al modello di campionarmi 16 immagini\n",
        "  xs = np.zeros((number_of_grid_cells,input_shape))\n",
        "  for i in np.arange(number_of_grid_cells):\n",
        "    generated_sample = model.sample().cpu()\n",
        "    #lo stacco dal grafo di computazione\n",
        "    generated_sample = generated_sample.detach().numpy()\n",
        "    xs[i,:] = generated_sample\n",
        "\n",
        "  \n",
        "  fig, ax = plt.subplots(n, n)\n",
        "  for i, ax in enumerate(ax.flatten()):\n",
        "      plottable_image = np.reshape(xs[i], (int(math.sqrt(input_shape)), int(math.sqrt(input_shape))))\n",
        "      ax.imshow(plottable_image, cmap='gray')\n",
        "      ax.axis('off')\n",
        "\n",
        "  plt.savefig(path_to_output+'/epoca_' +str(name)+ '.pdf', bbox_inches='tight')\n",
        "  plt.close()\n"
      ],
      "metadata": {
        "id": "K0kD3JWPAdpi"
      },
      "execution_count": 23,
      "outputs": []
    },
    {
      "cell_type": "code",
      "source": [
        "import gc\n",
        "\n",
        "number_of_epochs = 1000\n",
        "\n",
        "#qui salvo il migliore modello, ossia quello che ha la loss sulla validazione migliore\n",
        "best_model = model\n",
        "best_validation_loss = 1000000\n",
        "\n",
        "patience = 0\n",
        "max_patience = 25\n",
        "\n",
        "for epoch in range(number_of_epochs):\n",
        "  model.train()\n",
        "  print(\"Epoca \"+str(epoch)+\" _____________________________________________________________________\")\n",
        "  i=1\n",
        "  for index_batch, batch in enumerate(training_loader):\n",
        "\n",
        "    if len(batch.shape)==2:\n",
        "      batch = batch.reshape(batch.shape[0],int(math.sqrt(batch.shape[1])),int(math.sqrt(batch.shape[1])))\n",
        "    batch = batch.to(device)\n",
        "    \n",
        "    batch = batch.to(torch.float32)\n",
        "\n",
        "    loss = model.forward(batch)\n",
        "\n",
        "    #calcolo le derivate parziali della loss rispetto ogni parametro\n",
        "    loss.backward()\n",
        "\n",
        "    #adesso ogni parametro ha in .grad il gradiente. Aggiorno il suo valore\n",
        "    optimizer.step()\n",
        "\n",
        "    #resetto il .grad di ogni parametro (altrimenti sommo quello attuale al successivo che calcoleremo nell'epoca dopo)\n",
        "    optimizer.zero_grad()\n",
        "    \n",
        "    print(\"   Loss batch: \",str(i),\": \", loss)\n",
        "    i=i+1\n",
        "\n",
        "  #alla fine di ogni epoca, valuto come si comporta la loss col validation set\n",
        "  print(\"   ___________________________\")\n",
        "  model.eval()\n",
        "  validation_loss = 0\n",
        "  N = 0\n",
        "  \n",
        "  torch.cuda.empty_cache()\n",
        "  gc.collect()\n",
        "\n",
        "  for index_batch, batch in enumerate(validation_loader):\n",
        "    if len(batch.shape)==2:\n",
        "      batch = batch.reshape(batch.shape[0],int(math.sqrt(batch.shape[1])),int(math.sqrt(batch.shape[1])))\n",
        "    batch = batch.to(device)\n",
        "    batch = batch.to(torch.float32)\n",
        "    loss_i = model.forward(batch)\n",
        "    validation_loss = validation_loss + loss_i.item()#.to(\"cpu\")\n",
        "    N = N +  1#batch.shape[0]\n",
        "    print(\"   Loss validation batch \",str(N),\": \",loss_i)\n",
        "\n",
        "  validation_loss = validation_loss/N\n",
        "  print(\"   Loss media validation: \",str(validation_loss))\n",
        "\n",
        "  #se tale modello ha una loss migliore di quella attualmente migliore..\n",
        "  if validation_loss < best_validation_loss:\n",
        "    patience = 0\n",
        "    best_validation_loss = validation_loss\n",
        "    print(\"   la loss risulta essere migliore\")\n",
        "    torch.save(model.state_dict(), path_to_model+\"/model.pth\")\n",
        "    #campiono e salvo\n",
        "    sample_and_save(model, epoch, input_shape_image)\n",
        "  else:\n",
        "    print(\"   patience= \"+ str(patience+1))\n",
        "    patience = patience + 1\n",
        "  \n",
        "  if patience > max_patience:\n",
        "    print(\"\")\n",
        "    print(\"Patience massimo superato. Fine del training\")\n",
        "    break\n"
      ],
      "metadata": {
        "id": "wHHcmhvqWftP"
      },
      "execution_count": null,
      "outputs": []
    }
  ]
}
