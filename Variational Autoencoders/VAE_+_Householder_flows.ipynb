{
  "nbformat": 4,
  "nbformat_minor": 0,
  "metadata": {
    "colab": {
      "provenance": [],
      "collapsed_sections": [
        "xzn0YrUaaWjx",
        "cuc9qvyWWHUf",
        "-Q97vaC3NlqR",
        "TrqW_O67as26",
        "7iZsvZOfgOgW",
        "u_P94_AwVz8o"
      ],
      "gpuType": "T4"
    },
    "kernelspec": {
      "name": "python3",
      "display_name": "Python 3"
    },
    "language_info": {
      "name": "python"
    }
  },
  "cells": [
    {
      "cell_type": "code",
      "execution_count": null,
      "metadata": {
        "id": "YmxK034M6v7X"
      },
      "outputs": [],
      "source": [
        "import os\n",
        "import pandas as pd\n",
        "import numpy as np\n",
        "import matplotlib.pyplot as plt\n",
        "import torch\n",
        "from sklearn.datasets import load_digits\n",
        "from torchvision.datasets import FashionMNIST\n",
        "from torch.utils.data import Dataset, DataLoader\n",
        "import torch.nn as nn\n",
        "import torch.nn.functional as F\n",
        "from torch.distributions.multivariate_normal import MultivariateNormal\n",
        "import math"
      ]
    },
    {
      "cell_type": "code",
      "source": [
        "import matplotlib as matplotlib\n",
        "print(pd.__version__)\n",
        "print(np.__version__)\n",
        "print(matplotlib.__version__)"
      ],
      "metadata": {
        "colab": {
          "base_uri": "https://localhost:8080/"
        },
        "id": "QYiLt9jPIlzB",
        "outputId": "a7c9dfd9-2cb6-4eb0-c82b-6474dc53575c"
      },
      "execution_count": null,
      "outputs": [
        {
          "output_type": "stream",
          "name": "stdout",
          "text": [
            "1.5.3\n",
            "1.22.4\n",
            "3.7.1\n"
          ]
        }
      ]
    },
    {
      "cell_type": "code",
      "source": [
        "# Controlla la disponibilità della GPU\n",
        "if torch.cuda.is_available():\n",
        "    device = torch.device(\"cuda\")  # Imposta il dispositivo sulla GPU\n",
        "else:\n",
        "    device = torch.device(\"cpu\")  # Se la GPU non è disponibile, utilizza la CPU\n",
        "\n",
        "print(device)"
      ],
      "metadata": {
        "id": "JbQBUpStOG34",
        "colab": {
          "base_uri": "https://localhost:8080/"
        },
        "outputId": "bde9c588-8c34-4793-a514-73c893a7149c"
      },
      "execution_count": null,
      "outputs": [
        {
          "output_type": "stream",
          "name": "stdout",
          "text": [
            "cuda\n"
          ]
        }
      ]
    },
    {
      "cell_type": "code",
      "source": [
        "path_to_model = \"/content/model.pth\"\n",
        "path_to_output = \"/content/my\" #crea la cartella \"my\""
      ],
      "metadata": {
        "id": "wM1JJIxd1Zan"
      },
      "execution_count": null,
      "outputs": []
    },
    {
      "cell_type": "markdown",
      "source": [
        "# Dataset 2 (digits)"
      ],
      "metadata": {
        "id": "xzn0YrUaaWjx"
      }
    },
    {
      "cell_type": "code",
      "source": [
        "#Abbiamo 1797 campioni, ciascuno 8x8. Ogni immagine è organizzata come un vettore di 64 pixel\n",
        "digits_dataset = load_digits()\n",
        "\n",
        "print(digits_dataset.data.shape)"
      ],
      "metadata": {
        "colab": {
          "base_uri": "https://localhost:8080/"
        },
        "outputId": "5c2060c9-9f9e-4eff-e95b-ceb04e62147c",
        "id": "IWpMp1aOakYx"
      },
      "execution_count": null,
      "outputs": [
        {
          "output_type": "stream",
          "name": "stdout",
          "text": [
            "(1797, 64)\n"
          ]
        }
      ]
    },
    {
      "cell_type": "code",
      "source": [
        "from matplotlib import pyplot as plt\n",
        "#ogni riga è una immagine. Vediamo un esempio\n",
        "img1 = digits_dataset.data[0]\n",
        "#facciamo il reshape del vettore di 64 elementi in 8x8\n",
        "img1 = np.reshape(img1, (8,8))\n",
        "plt.imshow(img1)\n"
      ],
      "metadata": {
        "colab": {
          "base_uri": "https://localhost:8080/"
        },
        "outputId": "57897c51-5ea8-4bff-ce60-0597908713f7",
        "id": "zt0evHxEakYx"
      },
      "execution_count": null,
      "outputs": [
        {
          "output_type": "execute_result",
          "data": {
            "text/plain": [
              "<matplotlib.image.AxesImage at 0x7f31aff2cb80>"
            ]
          },
          "metadata": {},
          "execution_count": 5
        },
        {
          "output_type": "display_data",
          "data": {
            "text/plain": [
              "<Figure size 640x480 with 1 Axes>"
            ],
            "image/png": "[encoded data removed]"
          },
          "metadata": {}
        }
      ]
    },
    {
      "cell_type": "code",
      "source": [
        "#essendo ogni riga una immagine allora prendo le prime 1000 come training set, 350 come validation set e il resto come test set\n",
        "training_data = digits_dataset.data[0:1000].astype(np.float32)\n",
        "validation_data = digits_dataset.data[1000:1350].astype(np.float32)\n",
        "test_data = digits_dataset.data[1350:].astype(np.float32)"
      ],
      "metadata": {
        "id": "BQcWZ6-OakYy"
      },
      "execution_count": null,
      "outputs": []
    },
    {
      "cell_type": "code",
      "source": [
        "#hyperparameters\n",
        "input_shape_image = 8*8\n",
        "possible_pixel_values = 17 # ossia {0,1,...,16}"
      ],
      "metadata": {
        "id": "hGkkAp-2a3u5"
      },
      "execution_count": null,
      "outputs": []
    },
    {
      "cell_type": "markdown",
      "source": [
        "# Dataset 5 (Frey Face)"
      ],
      "metadata": {
        "id": "cuc9qvyWWHUf"
      }
    },
    {
      "cell_type": "code",
      "source": [
        "from google.colab import drive\n",
        "drive.mount('/content/drive')"
      ],
      "metadata": {
        "colab": {
          "base_uri": "https://localhost:8080/"
        },
        "id": "tAR-zlTeWXRo",
        "outputId": "99ec9943-b432-4572-ae7f-e181b7282173"
      },
      "execution_count": null,
      "outputs": [
        {
          "output_type": "stream",
          "name": "stdout",
          "text": [
            "Drive already mounted at /content/drive; to attempt to forcibly remount, call drive.mount(\"/content/drive\", force_remount=True).\n"
          ]
        }
      ]
    },
    {
      "cell_type": "code",
      "source": [
        "import scipy.io\n",
        "\n",
        "# Carica il file .mat\n",
        "data = scipy.io.loadmat('/content/drive/MyDrive/Generative_AI/datasets/frey_rawface.mat')"
      ],
      "metadata": {
        "id": "9FVLK-OdWJ81"
      },
      "execution_count": null,
      "outputs": []
    },
    {
      "cell_type": "code",
      "source": [
        "data = data['ff'].T\n",
        "data"
      ],
      "metadata": {
        "colab": {
          "base_uri": "https://localhost:8080/"
        },
        "id": "Q5fY0RULWy61",
        "outputId": "db5720ed-84e8-40f4-bb63-3c04c1db2b84"
      },
      "execution_count": null,
      "outputs": [
        {
          "output_type": "execute_result",
          "data": {
            "text/plain": [
              "array([[ 81, 136, 167, ..., 152, 158, 164],\n",
              "       [ 85, 138, 165, ..., 167, 178, 184],\n",
              "       [ 87, 139, 166, ..., 172, 177, 183],\n",
              "       ...,\n",
              "       [ 80,  84, 155, ..., 111, 186, 182],\n",
              "       [ 73,  86, 131, ..., 135, 167, 177],\n",
              "       [ 58,  89, 110, ..., 166, 177, 184]], dtype=uint8)"
            ]
          },
          "metadata": {},
          "execution_count": 306
        }
      ]
    },
    {
      "cell_type": "code",
      "source": [
        "data = data.reshape(1965,28,20)"
      ],
      "metadata": {
        "id": "f-Yh3DqEXmDB"
      },
      "execution_count": null,
      "outputs": []
    },
    {
      "cell_type": "code",
      "source": [
        "from PIL import Image\n",
        "# Converte la matrice in un oggetto immagine di tipo Pillow\n",
        "image_list = [Image.fromarray(data[i]) for i in range(data.shape[0])]\n",
        "\n",
        "# Ridimensiona tutte le immagini nella lista all'altezza e larghezza desiderate\n",
        "new_image_list = [image.resize((28, 28)) for image in image_list]\n",
        "\n",
        "# Converti le immagini ridimensionate in una nuova matrice\n",
        "resized_data = np.array([np.array(image) for image in new_image_list])\n",
        "\n",
        "max_value = 20\n",
        "#normalizza\n",
        "img_normalized = np.round((resized_data / 255) * max_value).astype(int)"
      ],
      "metadata": {
        "id": "XVUkf3TTaOxk"
      },
      "execution_count": null,
      "outputs": []
    },
    {
      "cell_type": "code",
      "source": [
        "from matplotlib import pyplot as plt\n",
        "plt.rcParams['figure.figsize'] = (5, 5) # set default size of plots\n",
        "plt.rcParams['image.interpolation'] = 'nearest'\n",
        "plt.rcParams['image.cmap'] = 'gray'\n",
        "#ogni riga è una immagine. Vediamo un esempio\n",
        "img1 = img_normalized[1120]\n",
        "print(img1.shape)\n",
        "plt.imshow(img1)\n"
      ],
      "metadata": {
        "colab": {
          "base_uri": "https://localhost:8080/",
          "height": 480
        },
        "outputId": "4352e611-3c75-4d67-b127-e37a46bbbfa1",
        "id": "wrA4figkX0fm"
      },
      "execution_count": null,
      "outputs": [
        {
          "output_type": "stream",
          "name": "stdout",
          "text": [
            "(28, 28)\n"
          ]
        },
        {
          "output_type": "execute_result",
          "data": {
            "text/plain": [
              "<matplotlib.image.AxesImage at 0x7f40dde291e0>"
            ]
          },
          "metadata": {},
          "execution_count": 309
        },
        {
          "output_type": "display_data",
          "data": {
            "text/plain": [
              "<Figure size 500x500 with 1 Axes>"
            ],
            "image/png": "[encoded data removed]"
          },
          "metadata": {}
        }
      ]
    },
    {
      "cell_type": "code",
      "source": [
        "#essendo ogni riga una immagine allora prendo le prime 1000 come training set, 350 come validation set e il resto come test set\n",
        "training_data = img_normalized[0:1300].astype(np.float32)\n",
        "validation_data = img_normalized[1300:1800].astype(np.float32)\n",
        "test_data = img_normalized[1800:].astype(np.float32)"
      ],
      "metadata": {
        "id": "JfhOkC2FX0fn"
      },
      "execution_count": null,
      "outputs": []
    },
    {
      "cell_type": "code",
      "source": [
        "#hyperparameters\n",
        "resize_to = 28\n",
        "input_shape_image = resize_to*resize_to\n",
        "possible_pixel_values = max_value+1 # ossia {0,1,...,max_value}"
      ],
      "metadata": {
        "id": "9csDpf8KX0fo"
      },
      "execution_count": null,
      "outputs": []
    },
    {
      "cell_type": "markdown",
      "source": [
        "# Dataset 6 (Celeb face)"
      ],
      "metadata": {
        "id": "-Q97vaC3NlqR"
      }
    },
    {
      "cell_type": "code",
      "source": [
        "from google.colab import drive\n",
        "drive.mount('/content/drive')"
      ],
      "metadata": {
        "colab": {
          "base_uri": "https://localhost:8080/"
        },
        "id": "H5H0sxy_4QYm",
        "outputId": "e7d07043-6739-4c29-8c14-8e859f744e58"
      },
      "execution_count": null,
      "outputs": [
        {
          "output_type": "stream",
          "name": "stdout",
          "text": [
            "Drive already mounted at /content/drive; to attempt to forcibly remount, call drive.mount(\"/content/drive\", force_remount=True).\n"
          ]
        }
      ]
    },
    {
      "cell_type": "code",
      "source": [
        "path_to_model = \"/content/drive/MyDrive/Generative_AI/datasets/celebA/model/model_prior_mog_posterior_householder.pth\"\n",
        "path_to_output = \"/content/drive/MyDrive/Generative_AI/datasets/celebA/output/prior_mog_posterior_householder_\""
      ],
      "metadata": {
        "id": "rnxO1SFI4UQn"
      },
      "execution_count": null,
      "outputs": []
    },
    {
      "cell_type": "markdown",
      "source": [
        "preprocessing"
      ],
      "metadata": {
        "id": "QzT5im-Dog4L"
      }
    },
    {
      "cell_type": "code",
      "source": [
        "import os\n",
        "import numpy as np\n",
        "from PIL import Image\n",
        "from torchvision import transforms\n",
        "\n",
        "# Imposta il percorso della cartella contenente le immagini\n",
        "#scarica prima img_align_celeba.zip da https://drive.google.com/drive/u/0/folders/0B7EVK8r0v71pWEZsZE9oNnFzTm8?resourcekey=0-5BR16BdXnb8hVj6CNHKzLg\n",
        "folder_path = \"/content/drive/MyDrive/Generative_AI/datasets/celebA/all\"\n",
        "\n",
        "# Imposta le dimensioni di resize desiderate\n",
        "resize_to = 100  # Specifica la larghezza (W) e l'altezza (H)\n",
        "max_value = 20\n",
        "\n",
        "# Crea una lista per salvare le immagini pre-elaborate\n",
        "processed_images = []\n",
        "\n",
        "# Crea una trasformazione di pre-elaborazione utilizzando torchvision.transforms.Compose\n",
        "preprocess = transforms.Compose([\n",
        "    transforms.Resize((resize_to,resize_to)),\n",
        "    transforms.Grayscale(),\n",
        "    transforms.ToTensor(),\n",
        "    transforms.Normalize(0, max_value),\n",
        "])\n",
        "\n",
        "# Itera sui file nella cartella\n",
        "i=0\n",
        "for file_name in os.listdir(folder_path):\n",
        "    print(i+1,\" -> \",file_name)\n",
        "    i=i+1\n",
        "    # Crea il percorso completo del file\n",
        "    file_path = os.path.join(folder_path, file_name)\n",
        "\n",
        "    # Carica l'immagine utilizzando PIL\n",
        "    image = Image.open(file_path)\n",
        "\n",
        "    # Applica le trasformazioni di pre-elaborazione all'immagine\n",
        "    processed_image = preprocess(image)\n",
        "\n",
        "    # Aggiungi l'immagine pre-elaborata alla lista\n",
        "    processed_images.append(processed_image)\n",
        "\n",
        "# Converte la lista di immagini in una matrice numpy\n",
        "image_matrix = np.stack(processed_images)\n",
        "\n",
        "# Ottieni le dimensioni della matrice delle immagini\n",
        "N, W, H = image_matrix.shape[0], image_matrix.shape[1], image_matrix.shape[2]\n",
        "\n",
        "# Visualizza le dimensioni della matrice delle immagini\n",
        "print(\"Dimensioni della matrice delle immagini:\", (N, W, H))\n"
      ],
      "metadata": {
        "id": "xRd1dvr1oh3n"
      },
      "execution_count": null,
      "outputs": []
    },
    {
      "cell_type": "code",
      "source": [
        "import numpy as np\n",
        "# Imposta il percorso del file di output\n",
        "file_path = \"/content/drive/MyDrive/Generative_AI/datasets/celebA/celebA.npy\"\n",
        "\n",
        "# Salva l'array nel file utilizzando np.save()\n",
        "np.save(file_path, processed_images)\n",
        "\n",
        "print(\"Array salvato correttamente.\")\n"
      ],
      "metadata": {
        "id": "jyQ99tm5c1WM"
      },
      "execution_count": null,
      "outputs": []
    },
    {
      "cell_type": "code",
      "source": [
        "file_path = \"/content/drive/MyDrive/Generative_AI/datasets/celebA/celebA.npy\"\n",
        "dataset = np.load(file_path,allow_pickle=True)\n",
        "\n",
        "dataset.size"
      ],
      "metadata": {
        "colab": {
          "base_uri": "https://localhost:8080/"
        },
        "id": "AE6ExjRUeg7x",
        "outputId": "9e587ad7-729a-49e0-f726-a44ab7273626"
      },
      "execution_count": null,
      "outputs": [
        {
          "output_type": "execute_result",
          "data": {
            "text/plain": [
              "28638"
            ]
          },
          "metadata": {},
          "execution_count": 5
        }
      ]
    },
    {
      "cell_type": "code",
      "source": [
        "image_matrix = np.stack(dataset)\n",
        "image_matrix.squeeze(1).shape"
      ],
      "metadata": {
        "colab": {
          "base_uri": "https://localhost:8080/"
        },
        "id": "8OpykpldjH3M",
        "outputId": "2af4f741-91a8-4ea1-cb96-214cad5eba2d"
      },
      "execution_count": null,
      "outputs": [
        {
          "output_type": "execute_result",
          "data": {
            "text/plain": [
              "(28638, 100, 100)"
            ]
          },
          "metadata": {},
          "execution_count": 6
        }
      ]
    },
    {
      "cell_type": "code",
      "source": [
        "# Ottieni il numero totale di immagini\n",
        "num_images = image_matrix.shape[0]\n",
        "\n",
        "# Genera un array di indici per rimescolare le immagini\n",
        "shuffled_indices = np.arange(num_images)\n",
        "np.random.shuffle(shuffled_indices)\n",
        "\n",
        "# Rimescola le immagini\n",
        "image_matrix = image_matrix[shuffled_indices]"
      ],
      "metadata": {
        "id": "faXmVoMKQSYb"
      },
      "execution_count": null,
      "outputs": []
    },
    {
      "cell_type": "code",
      "source": [
        "from scipy import ndimage\n",
        "import torchvision.transforms as transforms\n",
        "\n",
        "resize_to = 50\n",
        "\n",
        "# Converti ndarray in tensor PyTorch\n",
        "input_tensor = torch.from_numpy(image_matrix)\n",
        "\n",
        "\n",
        "# Crea una trasformazione per il ridimensionamento\n",
        "resize = transforms.Resize((resize_to, resize_to))\n",
        "\n",
        "\n",
        "# Applica la trasformazione al tensor\n",
        "output_tensor = resize(input_tensor)\n",
        "\n",
        "# Converti il tensor in ndarray\n",
        "image_matrix = output_tensor.numpy()\n",
        "\n"
      ],
      "metadata": {
        "id": "32Jg1CjUlIvF",
        "colab": {
          "base_uri": "https://localhost:8080/"
        },
        "outputId": "bb6ae921-a8e7-4bad-85b6-135380e4062e"
      },
      "execution_count": null,
      "outputs": [
        {
          "output_type": "stream",
          "name": "stderr",
          "text": [
            "/usr/local/lib/python3.10/dist-packages/torchvision/transforms/functional.py:1603: UserWarning: The default value of the antialias parameter of all the resizing transforms (Resize(), RandomResizedCrop(), etc.) will change from None to True in v0.17, in order to be consistent across the PIL and Tensor backends. To suppress this warning, directly pass antialias=True (recommended, future default), antialias=None (current default, which means False for Tensors and True for PIL), or antialias=False (only works on Tensors - PIL will still use antialiasing). This also applies if you are using the inference transforms from the models weights: update the call to weights.transforms(antialias=True).\n",
            "  warnings.warn(\n"
          ]
        }
      ]
    },
    {
      "cell_type": "code",
      "source": [
        "max_value = 20\n",
        "image_matrix = (image_matrix*20*max_value).astype(int)"
      ],
      "metadata": {
        "id": "sSE9KKbx-ObA"
      },
      "execution_count": null,
      "outputs": []
    },
    {
      "cell_type": "code",
      "source": [
        "plt.rcParams['figure.figsize'] = (5, 5) # set default size of plots\n",
        "plt.rcParams['image.interpolation'] = 'nearest'\n",
        "plt.rcParams['image.cmap'] = 'gray'\n",
        "#ogni riga è una immagine. Vediamo un esempio\n",
        "img1= image_matrix[5].squeeze(0)\n",
        "print(img1.shape)\n",
        "plt.imshow(img1)\n"
      ],
      "metadata": {
        "colab": {
          "base_uri": "https://localhost:8080/",
          "height": 484
        },
        "id": "5SPZNe28cDbm",
        "outputId": "b640034d-2fac-4852-d192-0aa106b18403"
      },
      "execution_count": null,
      "outputs": [
        {
          "output_type": "stream",
          "name": "stdout",
          "text": [
            "(100, 100)\n"
          ]
        },
        {
          "output_type": "execute_result",
          "data": {
            "text/plain": [
              "<matplotlib.image.AxesImage at 0x7fb68c09b790>"
            ]
          },
          "metadata": {},
          "execution_count": 9
        },
        {
          "output_type": "display_data",
          "data": {
            "text/plain": [
              "<Figure size 500x500 with 1 Axes>"
            ],
            "image/png": "[encoded data removed]"
          },
          "metadata": {}
        }
      ]
    },
    {
      "cell_type": "code",
      "source": [
        "#essendo ogni riga una immagine allora prendo le prime 50000 come training set, 5000 come validation set e il resto come test set\n",
        "training_data = image_matrix.squeeze(1)[0:26000]\n",
        "validation_data = image_matrix.squeeze(1)[26000:]\n",
        "#test_data = d.data[3000:4000]"
      ],
      "metadata": {
        "id": "GZJWw1YHd4A-"
      },
      "execution_count": null,
      "outputs": []
    },
    {
      "cell_type": "code",
      "source": [
        "#hyperparameters\n",
        "resize_to = 100 # se hai fatto il resize prima, commenta\n",
        "input_shape_image = resize_to*resize_to\n",
        "possible_pixel_values = max_value+1 # ossia {0,1,...,20}"
      ],
      "metadata": {
        "id": "hw4SGPg8d4BJ"
      },
      "execution_count": null,
      "outputs": []
    },
    {
      "cell_type": "code",
      "source": [
        "import gc\n",
        "\n",
        "#elimino per liberare memoria\n",
        "del image_matrix\n",
        "del dataset\n",
        "#forzo il garbage collector a operare adesso\n",
        "gc.collect()"
      ],
      "metadata": {
        "colab": {
          "base_uri": "https://localhost:8080/"
        },
        "id": "k-MNHWtvm2N_",
        "outputId": "99cab4f7-a21c-451a-a97f-38e20c42fc75"
      },
      "execution_count": null,
      "outputs": [
        {
          "output_type": "execute_result",
          "data": {
            "text/plain": [
              "25"
            ]
          },
          "metadata": {},
          "execution_count": 12
        }
      ]
    },
    {
      "cell_type": "markdown",
      "source": [
        "# DataLoader"
      ],
      "metadata": {
        "id": "TrqW_O67as26"
      }
    },
    {
      "cell_type": "markdown",
      "source": [
        "Non alleneremo la rete dandole tutti i dati, ma batch dopo batch. Creiamo quindi un DataLoader che semplicemente dividerà i dati in batch da 64 immagini (dopo averli mischiati) e ci restituirà, quando richiesto, un batch alla volta."
      ],
      "metadata": {
        "id": "mIp49CvLncr1"
      }
    },
    {
      "cell_type": "code",
      "source": [
        "training_loader = DataLoader(training_data, batch_size=16, shuffle=True)\n",
        "validation_loader = DataLoader(validation_data, batch_size=16, shuffle=True)\n",
        "#test_loader = DataLoader(test_data, batch_size=256, shuffle=True)"
      ],
      "metadata": {
        "id": "QO_kV43ulD3w"
      },
      "execution_count": null,
      "outputs": []
    },
    {
      "cell_type": "markdown",
      "source": [
        "# Model (adattato per gpu)"
      ],
      "metadata": {
        "id": "7iZsvZOfgOgW"
      }
    },
    {
      "cell_type": "markdown",
      "source": [
        "hyperparameters"
      ],
      "metadata": {
        "id": "ddzRWuW7gSUI"
      }
    },
    {
      "cell_type": "code",
      "source": [
        "#definisco la dimensione dello spazio latente\n",
        "latent_space_dimension = 64 #deve essere pari se utilizzi il Flow-based\n",
        "#nuumero di hidden neurons nell'encoder e decoder\n",
        "number_of_hidden_neurons = 64 #la sua radice quadrata deve essere intera altrimenti ci sarà un errore\n",
        "#numero componenti gaussiane per il MoG o VampPrior\n",
        "mog_components = 20"
      ],
      "metadata": {
        "id": "AlmydjlygSUI"
      },
      "execution_count": null,
      "outputs": []
    },
    {
      "cell_type": "markdown",
      "source": [
        "Mixture Of Gaussians (MoG)"
      ],
      "metadata": {
        "id": "izx9aBJoD75n"
      }
    },
    {
      "cell_type": "code",
      "source": [
        "class MoG(nn.Module):\n",
        "  def __init__(self, latent_dimension, num_components=1,):\n",
        "    super(MoG, self).__init__()\n",
        "\n",
        "    self.num_components = num_components\n",
        "    self.latent_dimension = latent_dimension\n",
        "\n",
        "    #inizializzo dei tensori \"da imparare\" che sono le medie delle K componenti\n",
        "    # di dimensione (Num_components, latent_dimension)\n",
        "    self.means = nn.Parameter(torch.randn(num_components, latent_dimension))\n",
        "\n",
        "    #inizializzo K matrici di covarianza diagonali di ognuna delle K componenti\n",
        "    #(Num_componenti, latent_dimension, latent_dimension)\n",
        "    #self.vars = nn.Parameter(torch.tensor(torch.eye(latent_dimension).unsqueeze(0).expand(num_components,-1,-1)))\n",
        "    #li tratto come log_var cosi che se anche fossero negativi, una volta fatto l'exp e quindi convertiti in var diventano positivi\n",
        "    self.log_vars = nn.Parameter(torch.randn((num_components,latent_dimension)))\n",
        "\n",
        "    #inizializzo i pesi di ogni gaussiana e li normalizzo affinchè la somma faccia 1\n",
        "    self.weights = nn.Parameter(torch.ones(num_components)/num_components )\n",
        "\n",
        "\n",
        "  def sample(self):\n",
        "\n",
        "    #campiono una camponente in base ai pesi\n",
        "    component_index =  torch.multinomial(F.softmax(self.weights, dim=0), 1)\n",
        "\n",
        "    #scelgo la media e la matrice di covarianza della componente scelta\n",
        "    mean = self.means[component_index]\n",
        "    log_var = self.log_vars[component_index]\n",
        "\n",
        "    #creo la matrice di covarianza a partire dai vettori che ne definiscono le diagonali\n",
        "    cov_matrix = torch.diag_embed(torch.exp(log_var))\n",
        "\n",
        "    #creo la multivariance\n",
        "    m = MultivariateNormal(mean,cov_matrix)\n",
        "\n",
        "    #campiono lo z\n",
        "    z_sample = m.sample().to(device)\n",
        "\n",
        "    return z_sample\n",
        "\n",
        "\n",
        "\n",
        "  def log_prob(self,z_samples):\n",
        "\n",
        "    #creo le matrici di covarianza a partire dai vettori che ne definiscono le diagonali\n",
        "    cov_matrices = torch.diag_embed(torch.exp(self.log_vars))\n",
        "\n",
        "    #creo K gaussiane mixate\n",
        "    MoG = MultivariateNormal(self.means.to(device),cov_matrices)\n",
        "\n",
        "    #reshape da (L, N, latent) in (N, latent)\n",
        "    z_reshaped = z_samples.view(-1, self.latent_dimension)\n",
        "\n",
        "    #Calcolo per ogni z le k log_prob (N, k)\n",
        "    k_log_probs_for_z = MoG.log_prob(z_reshaped.unsqueeze(1))\n",
        "\n",
        "    #Reshape originale (L, N, k)\n",
        "    k_log_probs_for_z_reshaped = k_log_probs_for_z.view(z_samples.shape[0],z_samples.shape[1], self.num_components)\n",
        "\n",
        "    #normalizzo i pesi affinchè la loro somma faccia 1\n",
        "    probabilities_weights = F.softmax(self.weights, dim=0)\n",
        "\n",
        "    #per ciascuno moltiplico le k probabilità per i rispettivi pesi\n",
        "    weigthed_log_probs = k_log_probs_for_z_reshaped * probabilities_weights\n",
        "\n",
        "    #sommo tutte le log_probs pesate di ogni z (L, N)\n",
        "    sum_weigthed_log_probs = weigthed_log_probs.sum(-1)\n",
        "\n",
        "    return sum_weigthed_log_probs"
      ],
      "metadata": {
        "id": "4G2tNO90D75n"
      },
      "execution_count": null,
      "outputs": []
    },
    {
      "cell_type": "markdown",
      "source": [
        "VampPrior: Variational Mixture of Posterior Prior"
      ],
      "metadata": {
        "id": "J87_A_TwZ0wT"
      }
    },
    {
      "cell_type": "code",
      "source": [
        "class VampPrior(nn.Module):\n",
        "  def __init__(self, input_shape, latent_dimension, possible_pixel_values,encode= None, num_components=1):\n",
        "    super(VampPrior, self).__init__()\n",
        "\n",
        "    #sarebbe la dimensione D*D dell'ingresso originale a cui le immagini appartengono\n",
        "    self.input_shape = input_shape\n",
        "    self.num_components = num_components\n",
        "    self.latent_dimension = latent_dimension\n",
        "    self.encode = encode\n",
        "\n",
        "    #inizializzo gli pseudo-input\n",
        "    #creo N pseudo input u (N, sqrt(input_shape), sqrt(input_shape))\n",
        "    u = torch.rand((num_components, int(math.sqrt(input_shape)), int(math.sqrt(input_shape))))*possible_pixel_values\n",
        "    #li rendo learnable\n",
        "    self.u = nn.Parameter(u)\n",
        "\n",
        "    #inizializzo i pesi di ogni gaussiana e li normalizzo affinchè la somma faccia 1\n",
        "    self.weights = nn.Parameter(torch.ones(num_components)/num_components )\n",
        "\n",
        "\n",
        "  def sample(self):\n",
        "\n",
        "    #campiono una camponente in base ai pesi\n",
        "    component_index =  torch.multinomial(F.softmax(self.weights, dim=0), 1)\n",
        "\n",
        "    #do all'encoder gli pseudo-input ottenendo le medie e le log_std\n",
        "    mean_vectors, log_std_vectors = self.encode(self.u)\n",
        "\n",
        "    #scelgo la media e la matrice di covarianza della componente scelta\n",
        "    mean_vector = mean_vectors[component_index]\n",
        "    log_std_vector = log_std_vectors[component_index]\n",
        "\n",
        "    #creo la matrice di covarianza a partire dai vettori che ne definiscono le diagonali\n",
        "    cov_matrix = torch.diag_embed(torch.exp(log_std_vector))\n",
        "\n",
        "    #creo la multivariance\n",
        "    m = MultivariateNormal(mean_vector,cov_matrix)\n",
        "\n",
        "    #campiono lo z\n",
        "    z_sample = m.sample().to(device)\n",
        "\n",
        "    return z_sample\n",
        "\n",
        "\n",
        "\n",
        "  def log_prob(self,z_samples):\n",
        "\n",
        "    #do all'encoder gli pseudo-input ottenendo le medie e le log_std\n",
        "    #reshape degli pseudo-input da (N, sqrt(input_shape), sqrt(input_shape)) a (N, input_shape)\n",
        "    #x = torch.flatten(self.u,1)\n",
        "    #output = self.encoder.encoder(x)\n",
        "    #divido il risultato in due parti: media e std (diagonale)(logaritmica)\n",
        "    #mean_vectors, log_std_vectors = torch.chunk(output, 2, dim=1)\n",
        "\n",
        "    mean_vectors, log_std_vectors = self.encode(self.u)\n",
        "\n",
        "    #creo le matrici di covarianza a partire dai vettori che ne definiscono le diagonali\n",
        "    cov_matrices = torch.diag_embed(torch.exp(log_std_vectors))\n",
        "\n",
        "    #creo K gaussiane mixate\n",
        "    MoG = MultivariateNormal(mean_vectors,cov_matrices)\n",
        "\n",
        "    #reshape da (L, N, latent) in (N, latent)\n",
        "    z_reshaped = z_samples.view(-1, self.latent_dimension)\n",
        "\n",
        "    #Calcolo per ogni z le k log_prob (N, k)\n",
        "    k_log_probs_for_z = MoG.log_prob(z_reshaped.unsqueeze(1))\n",
        "\n",
        "    #Reshape originale (L, N, k)\n",
        "    k_log_probs_for_z_reshaped = k_log_probs_for_z.view(z_samples.shape[0],z_samples.shape[1], self.num_components)\n",
        "\n",
        "    #normalizzo i pesi affinchè la loro somma faccia 1\n",
        "    probabilities_weights = F.softmax(self.weights, dim=0)\n",
        "\n",
        "    #per ciascuno moltiplico le k probabilità per i rispettivi pesi\n",
        "    weigthed_log_probs = k_log_probs_for_z_reshaped * probabilities_weights\n",
        "\n",
        "    #sommo tutte le log_probs pesate di ogni z (L, N)\n",
        "    sum_weigthed_log_probs = weigthed_log_probs.sum(-1)\n",
        "\n",
        "    return sum_weigthed_log_probs\n"
      ],
      "metadata": {
        "id": "1NjHF-U3bNAB"
      },
      "execution_count": null,
      "outputs": []
    },
    {
      "cell_type": "markdown",
      "source": [
        "GTM-VampPrior:  Generative Topographic Mapping and Variational Mixture of Posterior Prior"
      ],
      "metadata": {
        "id": "b64mR5XyZRHL"
      }
    },
    {
      "cell_type": "code",
      "source": [
        "class GTM_VampPrior(nn.Module):\n",
        "  def __init__(self, input_shape, latent_dimension, possible_pixel_values,encode= None, num_components=1, u_dim=10):\n",
        "    super(GTM_VampPrior, self).__init__()\n",
        "\n",
        "    #sarebbe la dimensione D*D dell'ingresso originale a cui le immagini appartengono\n",
        "    self.input_shape = input_shape\n",
        "    self.num_components = num_components\n",
        "    self.latent_dimension = latent_dimension\n",
        "    self.encode = encode\n",
        "\n",
        "    #creo la rete che implementerà la funzione g che opera sui pseudo inputs\n",
        "    self.g_net = nn.Sequential(nn.Linear(u_dim*u_dim,number_of_hidden_neurons*2),\n",
        "                                 nn.BatchNorm1d(number_of_hidden_neurons*2),\n",
        "                                 nn.LeakyReLU(),\n",
        "                                 nn.Linear(number_of_hidden_neurons*2,number_of_hidden_neurons),\n",
        "                                 nn.BatchNorm1d(number_of_hidden_neurons),\n",
        "                                 nn.Tanh(),\n",
        "                                 #moltiplico per 2 perchè voglio sia il vettore di media che std (diagonale)\n",
        "                                 nn.Linear(number_of_hidden_neurons,input_shape),\n",
        "                                 nn.Sigmoid()\n",
        "                                 )\n",
        "\n",
        "    #inizializzo gli pseudo-input\n",
        "    #creo N pseudo input u (N, 10,10)\n",
        "    u = torch.rand((num_components, u_dim,u_dim))\n",
        "    #li rendo learnable\n",
        "    self.u = nn.Parameter(u)\n",
        "\n",
        "    #inizializzo i pesi di ogni gaussiana e li normalizzo affinchè la somma faccia 1\n",
        "    self.weights = nn.Parameter(torch.ones(num_components)/num_components )\n",
        "\n",
        "\n",
        "  def sample(self):\n",
        "\n",
        "    #campiono una camponente in base ai pesi\n",
        "    component_index =  torch.multinomial(F.softmax(self.weights, dim=0), 1)\n",
        "\n",
        "    #do all'encoder gli pseudo-input ottenendo le medie e le log_std\n",
        "    #processo gli pseudo-input con una funzion g\n",
        "    x = torch.flatten(self.u,1)\n",
        "    pseudo_input_after_g = self.g_net(x)\n",
        "\n",
        "    mean_vectors, log_std_vectors = self.encode(pseudo_input_after_g*possible_pixel_values)\n",
        "\n",
        "\n",
        "    #scelgo la media e la matrice di covarianza della componente scelta\n",
        "    mean_vector = mean_vectors[component_index]\n",
        "    log_std_vector = log_std_vectors[component_index]\n",
        "\n",
        "    #creo la matrice di covarianza a partire dai vettori che ne definiscono le diagonali\n",
        "    cov_matrix = torch.diag_embed(torch.exp(log_std_vector))\n",
        "\n",
        "    #creo la multivariance\n",
        "    m = MultivariateNormal(mean_vector,cov_matrix)\n",
        "\n",
        "    #campiono lo z\n",
        "    z_sample = m.sample().to(device)\n",
        "\n",
        "    return z_sample\n",
        "\n",
        "\n",
        "\n",
        "  def log_prob(self,z_samples):\n",
        "\n",
        "    #do all'encoder gli pseudo-input ottenendo le medie e le log_std\n",
        "    #processo gli pseudo-input con una funzion g\n",
        "    x = torch.flatten(self.u,1)\n",
        "    pseudo_input_after_g = self.g_net(x)\n",
        "\n",
        "    mean_vectors, log_std_vectors = self.encode(pseudo_input_after_g*possible_pixel_values)\n",
        "\n",
        "    #creo le matrici di covarianza a partire dai vettori che ne definiscono le diagonali\n",
        "    cov_matrices = torch.diag_embed(torch.exp(log_std_vectors))\n",
        "\n",
        "    #creo K gaussiane mixate\n",
        "    MoG = MultivariateNormal(mean_vectors,cov_matrices)\n",
        "\n",
        "    #reshape da (L, N, latent) in (N, latent)\n",
        "    z_reshaped = z_samples.view(-1, self.latent_dimension)\n",
        "\n",
        "    #Calcolo per ogni z le k log_prob (N, k)\n",
        "    k_log_probs_for_z = MoG.log_prob(z_reshaped.unsqueeze(1))\n",
        "\n",
        "    #Reshape originale (L, N, k)\n",
        "    k_log_probs_for_z_reshaped = k_log_probs_for_z.view(z_samples.shape[0],z_samples.shape[1], self.num_components)\n",
        "\n",
        "    #normalizzo i pesi affinchè la loro somma faccia 1\n",
        "    probabilities_weights = F.softmax(self.weights, dim=0)\n",
        "\n",
        "    #per ciascuno moltiplico le k probabilità per i rispettivi pesi\n",
        "    weigthed_log_probs = k_log_probs_for_z_reshaped * probabilities_weights\n",
        "\n",
        "    #sommo tutte le log_probs pesate di ogni z (L, N)\n",
        "    sum_weigthed_log_probs = weigthed_log_probs.sum(-1)\n",
        "\n",
        "    return sum_weigthed_log_probs\n"
      ],
      "metadata": {
        "id": "b07IG-ZPZRHU"
      },
      "execution_count": null,
      "outputs": []
    },
    {
      "cell_type": "markdown",
      "source": [
        "Flow-based prior"
      ],
      "metadata": {
        "id": "4v7hTyqtgBO0"
      }
    },
    {
      "cell_type": "code",
      "source": [
        "class Flow_Based_prior(nn.Module):\n",
        "  def __init__(self, latent_dimension):\n",
        "    super(Flow_Based_prior, self).__init__()\n",
        "\n",
        "    #divideremo l'input Z a metà, quindi prenderemo metà delle componenti\n",
        "    self.input_dimension = latent_dimension //2\n",
        "\n",
        "    self.number_of_neurons = 128\n",
        "    self.number_of_flows = 8\n",
        "\n",
        "    self.scale_net = nn.Sequential(nn.Linear(self.input_dimension,self.number_of_neurons),\n",
        "                                   nn.ELU(),\n",
        "                                   nn.Linear(self.number_of_neurons,self.number_of_neurons*2),\n",
        "                                   nn.ELU(),\n",
        "                                   nn.Linear(self.number_of_neurons*2,self.number_of_neurons*2),\n",
        "                                   nn.Tanh(),\n",
        "                                   nn.Linear(self.number_of_neurons*2,self.input_dimension),\n",
        "                                   nn.Tanh()\n",
        "                                   )\n",
        "    #neo creo 8\n",
        "    self.scale_nets = torch.nn.ModuleList([self.scale_net for _ in range(self.number_of_flows)])\n",
        "\n",
        "    self.translation_net = nn.Sequential(nn.Linear(self.input_dimension,self.number_of_neurons),\n",
        "                                nn.LeakyReLU(),\n",
        "                                nn.Linear(self.number_of_neurons,self.number_of_neurons*2),\n",
        "                                nn.ELU(),\n",
        "                                nn.Linear(self.number_of_neurons*2,self.number_of_neurons*2),\n",
        "                                nn.Tanh(),\n",
        "                                nn.Linear(self.number_of_neurons*2,self.input_dimension),\n",
        "                                )\n",
        "\n",
        "    #neo creo 8\n",
        "    self.translation_nets = torch.nn.ModuleList([self.translation_net for _ in range(self.number_of_flows)])\n",
        "\n",
        "    #la distribuzione iniziale da cui partire, ossia N(0,I)\n",
        "    self.p0 = MultivariateNormal(torch.zeros(latent_dimension).to(device), torch.eye(latent_dimension).to(device))\n",
        "\n",
        "  def coupling_layer(self, z, index, forward=True):\n",
        "\n",
        "    #divido l'input in due parti\n",
        "    (za,zb) = torch.chunk(z,2,1)\n",
        "    #print(\" Divido input: za=\", za, \" shape=\", za.shape)\n",
        "    #print(\" zb=\",zb)\n",
        "\n",
        "    #inizializzo i due output del coupling layer\n",
        "    ya = 0,\n",
        "    yb = 0\n",
        "\n",
        "    #print(\" calcolo s e t con ingresso di dimensione \", za.shape)\n",
        "    s = self.scale_nets[index](za)\n",
        "    t = self.translation_nets[index](za)\n",
        "\n",
        "    #print(\" s=\",s)\n",
        "    #print(\" t=\",t)\n",
        "\n",
        "    ya= za\n",
        "\n",
        "    if forward == False:\n",
        "      yb = torch.exp(s)*zb + t\n",
        "    else:\n",
        "      yb = (zb-t)*torch.exp(-s)\n",
        "\n",
        "    return torch.cat((ya,yb), 1), s\n",
        "\n",
        "  def permute(self, z):\n",
        "    return z.flip(1)\n",
        "\n",
        "  def log_prob(self,z):\n",
        "    '''\n",
        "      Io voglio calcolare il log(p(z)) e so che questo è calcolabile come:\n",
        "        log(p(z)) = ln(p0(z0=f^-1(x)) ) - sum(ln(det(J_fi(z_i-1))))\n",
        "    '''\n",
        "    #in ingresso ho (L, N, latent), lo converto in (L*N, latent)\n",
        "    L = z.shape[0]\n",
        "    N = z.shape[1]\n",
        "    z = z.view((L*N,z.shape[2]))\n",
        "    #se ho N z allora ho N log_det_J da memorizzare, uno per ogni z\n",
        "    log_det_J = z.new_zeros(z.shape[0])\n",
        "    #print(\"log_det_J: \",log_det_J)\n",
        "    output = z\n",
        "    #vado da p(x) a p0\n",
        "    for flow_i in range(self.number_of_flows):\n",
        "      #print(\"flow_i: \", flow_i)\n",
        "      output, s = self.coupling_layer(output, flow_i, forward=True)\n",
        "      output = self.permute(output)\n",
        "      log_det_J = log_det_J + s.sum(dim=1)\n",
        "\n",
        "    #adesso ho ottenuto che output=z0=f^-1(x) e ho la somma dei logaritmi dei determinanti\n",
        "    ln_p_z = self.p0.log_prob(output) - log_det_J\n",
        "    #print(\"Ln_p_z=\", ln_p_z)\n",
        "\n",
        "    #ritorno nel formato previsto (L, N)\n",
        "    return ln_p_z.view((L,N))\n",
        "\n",
        "\n",
        "  def sample(self):\n",
        "\n",
        "    #campiono dalla prior\n",
        "    z0 = self.p0.sample()\n",
        "\n",
        "    z = z0.unsqueeze(0)\n",
        "\n",
        "    #procedo da p0 a p(x)\n",
        "    for flow_i in reversed(range(self.number_of_flows)):\n",
        "      z = self.permute(z)\n",
        "      z,_ = self.coupling_layer(z, flow_i, forward=False)\n",
        "\n",
        "    #ritorno un campione di p(x)\n",
        "    return z\n",
        "\n",
        "\n"
      ],
      "metadata": {
        "id": "CxdR5BEagCh_"
      },
      "execution_count": null,
      "outputs": []
    },
    {
      "cell_type": "markdown",
      "source": [
        "Encoder"
      ],
      "metadata": {
        "id": "AHj2x6M4gSUJ"
      }
    },
    {
      "cell_type": "code",
      "source": [
        "from torch.linalg import multi_dot\n",
        "\n",
        "class Encoder(nn.Module):\n",
        "  def __init__(self, input_shape_image, latent_space_dimension, number_of_hidden_neurons, L, T=10):\n",
        "    super(Encoder,self).__init__()\n",
        "\n",
        "    #numero di campioni per l'approssimazione Monte-Carlo dell'Expected Value\n",
        "    self.L = L\n",
        "\n",
        "    #indica il numero di HouseHolder matrices da utilizzare\n",
        "    self.T = T\n",
        "\n",
        "    self.input_shape_image = input_shape_image\n",
        "\n",
        "    self.latent_space_dimension = latent_space_dimension\n",
        "\n",
        "    out_channels = 8\n",
        "    kernel_size = 3\n",
        "\n",
        "    self.encoder = nn.Sequential(nn.Conv2d(1,3*out_channels,kernel_size,padding=\"same\"),\n",
        "                   nn.BatchNorm2d(3*out_channels),\n",
        "                   nn.LeakyReLU(),\n",
        "                   nn.Dropout(0.25),\n",
        "\n",
        "                   nn.Conv2d(3*out_channels,2*out_channels,kernel_size,padding=\"same\"),\n",
        "                   nn.BatchNorm2d(2*out_channels),\n",
        "                   nn.LeakyReLU(),\n",
        "                   nn.Dropout(0.25),\n",
        "\n",
        "                   nn.Conv2d(2*out_channels,out_channels,kernel_size,padding=\"same\"),\n",
        "                   nn.BatchNorm2d(out_channels),\n",
        "                   nn.LeakyReLU(),\n",
        "                   nn.Dropout(0.25),\n",
        "\n",
        "                   nn.Flatten(),\n",
        "                   nn.Linear(input_shape_image*out_channels,2*latent_space_dimension))\n",
        "\n",
        "    self.prior = None\n",
        "\n",
        "    #creo T vettori di Householder da imparare\n",
        "    v = torch.rand(T,latent_space_dimension, dtype=torch.float32)\n",
        "    self.householder_vectors = nn.Parameter(v)\n",
        "\n",
        "\n",
        "\n",
        "  def set_prior(self,prior):\n",
        "    #associo la prior scelta\n",
        "    self.prior = prior\n",
        "\n",
        "  def encode(self,x):\n",
        "    #trasformo il batch da (64, 28, 28) in (64,1,28,28)\n",
        "    x = x.unsqueeze(1)\n",
        "    #do alla rete x e prelevo vettore di media e std (diagonale)\n",
        "    output = self.encoder(x)\n",
        "\n",
        "    #divido il risultato in due parti: media e std (diagonale)(logaritmica)\n",
        "    mean_vector, log_std_vector = torch.chunk(output, 2, dim=1)\n",
        "\n",
        "    return mean_vector, log_std_vector\n",
        "\n",
        "\n",
        "  def KL_loss(self,log_std_vector,mean_vector, batch_length):\n",
        "\n",
        "    L = self.L\n",
        "\n",
        "    #print(\"Mean-vector\", str(mean_vector), \"  shape:\",mean_vector.shape)\n",
        "    #print(\"log-Std-vector\", str(log_std_vector), \"  shape:\",log_std_vector.shape)\n",
        "\n",
        "    #trasformo i logaritmi delle std in std\n",
        "    std_vector = torch.exp(log_std_vector)\n",
        "\n",
        "    #print(\"Std vectors: \",std_vector.device)\n",
        "\n",
        "    #siccome devo avere una matrice positiva definita (cholesky decomposition) devo\n",
        "    #assicurarmi che i valori nelle diagonali non siano proprio zero\n",
        "    EPS = 1.e-5\n",
        "    std_vector = torch.clamp(std_vector, EPS,1. - EPS)\n",
        "\n",
        "    #trasformo le sequenze di varianze in matrici diagonali (covarianza)\n",
        "    covariance_matrixes = torch.diag_embed(std_vector)\n",
        "\n",
        "    #print(\"Matrici di covarianza\",covariance_matrixes.device, \"  di shape \", covariance_matrixes.shape )\n",
        "\n",
        "    #calcolo N distribuzioni  multivariate q(z|x) creata da ognuno degli N x\n",
        "    q_z_x = MultivariateNormal(mean_vector, covariance_matrixes)\n",
        "\n",
        "    '''\n",
        "      per ciascuna distribuzione campiono L vettori z\n",
        "      Nota però che anche se campiono L vettori da ciascuna, il risultato\n",
        "      conterrà i primi N vettori z campionati, poi i secondi N e cosi via fino\n",
        "      agli L-esimi. Per esempio i primi due z1 e z2 sono stati campionati da due\n",
        "      distribuzioni diverse! Quindi non ho blocchi da L vettori z appartenenti\n",
        "      alla stessa distribuzione!\n",
        "    '''\n",
        "    #dimensione (L, num_distribuzioni, dim_latente)\n",
        "    z_samples = q_z_x.rsample((L,)) #r sta per \"reparametrization trick\"\n",
        "    #print(\"samples: \", z_samples.device)\n",
        "    #print(\"Shape samples: \", z_samples.shape)\n",
        "\n",
        "    '''\n",
        "      calcolo per ciascuno e sulla rispettiva distribuzione il log della prob\n",
        "      Ho una matrice (L, N), dove ogni \"colonna\" contiene le probabilità degli\n",
        "      z campionati dalla \"stessa\" distribuzione.\n",
        "    '''\n",
        "    z_log_probs = q_z_x.log_prob(z_samples)\n",
        "    #print(\"log q(z|x)\",z_log_probs)\n",
        "    #print(\"Shape q(z|x): \", z_log_probs.shape)\n",
        "\n",
        "    '''\n",
        "      Per ogni sample z calcolo la p(z). Otterrò una matrice (L, N), dove ogni\n",
        "      \"colonna\" contiene le probabilità degli z campionati dalla \"stessa\" distribuzione q(z|x)\n",
        "    '''\n",
        "    #creo la prior p(z)=N(z|0,I), è sempre la stessa\n",
        "    #p_z = MultivariateNormal(torch.zeros(self.latent_space_dimension).to(device), torch.eye(self.latent_space_dimension).to(device))\n",
        "\n",
        "    #ln_p_z = p_z.log_prob(z_samples)\n",
        "    ln_p_z = self.prior.log_prob(z_samples)\n",
        "\n",
        "    #print(\"ln_p(z)=\",ln_p_z.device)\n",
        "    #print(\"Shape di ln(p(z)) \",ln_p_z.shape)\n",
        "\n",
        "    '''\n",
        "      Ora per ogni immagine x io ho campionato L vettori z e per ciascuno ho\n",
        "      valutato sia ln(q(z|x)) che ln(p(z)). Per ogni immagine io volevo calcolare\n",
        "      l'expected value approssimandolo (Monte Carlo) come:\n",
        "\n",
        "                        KL = [Sum(ln(q(z|x)))/L - Sum(ln(p(z))/L)\n",
        "\n",
        "      Per ottenere la prima sommatoria, sommo le colonne di z_log_probs, mentre\n",
        "      per la seconda sommo le colonne della matrice ln_p_z. Dopodichè, ottenuti\n",
        "      due vettori, li divido per L e li sottraggo tra cosi da ottenere l'approssimazione\n",
        "      della KL per ogni immagine x in ingresso\n",
        "    '''\n",
        "\n",
        "    KL_per_image = z_log_probs.sum(0)/L - ln_p_z.sum(0)/L\n",
        "    #print(\"KL_per_image\",KL_per_image.device)\n",
        "\n",
        "    return KL_per_image,z_samples\n",
        "\n",
        "  '''\n",
        "    L'encoder ha rilasciato gli householder_vectors. Se sono T allora calcolerò\n",
        "    T matrici di Householder, le moltiplicherò tra loro per ottenere U. Dopodichè\n",
        "    trasformerò gli z campionati da p0 in degli z' come se z' fosse campionato da:\n",
        "                                  p(z')=N(u U, U diag(var^2) U^T)\n",
        "    quindi una distribuzione la cui matrice di covarianza non è limitata ad essere\n",
        "    una semplice diagonale permettendo quindi di rigettare l'ipotesi che le variabili\n",
        "    latenti siano indipendenti tra loro.\n",
        "  '''\n",
        "  def householder_transformation(self, z):\n",
        "\n",
        "    '''\n",
        "      Ricordo che dato un vi (Householder vector) la relativa matrice di Householder\n",
        "      Hi si trova come:\n",
        "                          H_i = I - 2* vi^T v / v v^T\n",
        "      Ne troveremo K che poi moltiplicheremo per trovare la matrice di trasformazione:\n",
        "                              U = H1*H2*...*HK\n",
        "      Dopodichè trasformeremo z cosi:\n",
        "                                  z' = U*z\n",
        "    '''\n",
        "\n",
        "    #creo la matrice identità\n",
        "    I = torch.eye(self.latent_space_dimension, dtype=torch.float32).to(device)\n",
        "\n",
        "    #per ogni householder vector vi calcolo calcolo ||vi||^2\n",
        "    norms = torch.norm(self.householder_vectors, dim=-1, keepdim=True)\n",
        "    dot_product = norms*norms\n",
        "\n",
        "    #print(\"House\",self.householder_vectors.shape)\n",
        "    #per ogni householder vector vi calcolo l'outer product con se stesso\n",
        "    outer_product = torch.matmul(self.householder_vectors.unsqueeze(2), self.householder_vectors.unsqueeze(1))\n",
        "\n",
        "    #adesso posso calcolare vi^T vi / ||vi||^2\n",
        "    normalized_outer_product = outer_product / dot_product[:,None]\n",
        "\n",
        "    #per ogni householder vector vi calcolo la relativa matrice di Householder Hi\n",
        "    H_is = I-2*normalized_outer_product\n",
        "\n",
        "    #calcolo latrasformazione U data dalla moltiplicazione H1*H2*...HT\n",
        "    U = H_is[0]\n",
        "    for i in np.arange(self.T-1):\n",
        "        U = torch.matmul(U,H_is[i+1])\n",
        "\n",
        "    #adesso moltiplico U per ogni campione z di p0\n",
        "    z_transformed = torch.matmul(U.unsqueeze(0),torch.transpose(z.unsqueeze(2),2,3)).squeeze(-1)\n",
        "\n",
        "\n",
        "    #ritorno (L, N, dim_latente) di vettori però trasformati\n",
        "    return z_transformed\n",
        "\n",
        "  def sample(self):\n",
        "    z_sample = self.prior.sample()\n",
        "    #prima di darlo al decoder, dato che è stato allenato con i campioni di pk\n",
        "    #dovrò trasformare z0 in zk\n",
        "    #siccome il codice è lo stesso, ma si aspetta (L, N, lantent_dim) allora faccio il reshape\n",
        "    z_sample = z_sample.unsqueeze(0)\n",
        "\n",
        "    transformed_z_sample = self.householder_transformation(z_sample)\n",
        "\n",
        "    return transformed_z_sample.squeeze(0)\n",
        "\n",
        "    #La rete ritorna il vettore di media, std (diagonale) e la z campionata\n",
        "  def forward(self, x):\n",
        "\n",
        "    #trasformo il batch da (64, 28, 28) in (64,1,28,28)\n",
        "    x = x.unsqueeze(1)\n",
        "    #print(\"X shape: \",x.shape)\n",
        "    #do alla rete x e prelevo vettore di media e std (diagonale)\n",
        "    output = self.encoder(x)\n",
        "\n",
        "    #print(output.device)\n",
        "    #print(\"Output shape encoder: \",output)\n",
        "    #divido il risultato in tre parti: media e std (diagonale)(logaritmica)\n",
        "    mean_vector, log_std_vector = torch.chunk(output, 2, dim=1)\n",
        "\n",
        "    #Il codice continua ad essere lo stesso dato che in termini di probabilità le cose non cambiano\n",
        "\n",
        "    '''\n",
        "      Ottengo un KL_error (N,) contenente per ogni immagine il relativo KL_error,\n",
        "      e poi una matrice z_samples (L, N, dim_latente)\n",
        "    '''\n",
        "    KL_per_image, z_samples = self.KL_loss(log_std_vector,mean_vector, x.shape[0])\n",
        "    #print(\"KL_per_image: \",KL_per_image)\n",
        "\n",
        "\n",
        "    '''\n",
        "        Questa è la parte nuova. Gli z_samples sono stati campionati da p0, adesso\n",
        "        voglio che il decoder decodifichi gli stessi z_samples però trasformati nello\n",
        "        spazio latente di Householder, ossia quello dove la matrice di covarianza è\n",
        "        full.\n",
        "    '''\n",
        "\n",
        "    transformed_z_samples = self.householder_transformation(z_samples)\n",
        "\n",
        "    return KL_per_image,transformed_z_samples"
      ],
      "metadata": {
        "id": "S1--Lvq2z4Bn"
      },
      "execution_count": null,
      "outputs": []
    },
    {
      "cell_type": "markdown",
      "source": [
        "Decoder"
      ],
      "metadata": {
        "id": "8XD2UZLYgSUJ"
      }
    },
    {
      "cell_type": "code",
      "source": [
        "class Decoder(nn.Module):\n",
        "  def __init__(self, input_shape_image,latent_space_dimension, number_of_hidden_neurons, possible_pixel_values, L):\n",
        "    super(Decoder,self).__init__()\n",
        "\n",
        "    self.L = L\n",
        "\n",
        "    self.input_shape_image = input_shape_image\n",
        "\n",
        "    self.latent_space_dimension = latent_space_dimension\n",
        "\n",
        "    self.possible_pixel_values = possible_pixel_values\n",
        "\n",
        "    kernel_size = 3\n",
        "    out_channels = 8\n",
        "    self.decoder = nn.Sequential(nn.Linear(latent_space_dimension,number_of_hidden_neurons),\n",
        "                                 nn.Unflatten(2, (int(math.sqrt(number_of_hidden_neurons)),int(math.sqrt(number_of_hidden_neurons)))),\n",
        "\n",
        "                                nn.ConvTranspose2d(1,out_channels,kernel_size),\n",
        "                                nn.LeakyReLU(),\n",
        "\n",
        "                                nn.ConvTranspose2d(out_channels,2*out_channels,kernel_size),\n",
        "                                nn.LeakyReLU(),\n",
        "\n",
        "                                nn.ConvTranspose2d(2*out_channels,3*out_channels,kernel_size),\n",
        "                                nn.LeakyReLU(),\n",
        "\n",
        "                                nn.Flatten(),\n",
        "                                nn.LazyLinear(input_shape_image*possible_pixel_values),\n",
        "                                nn.Unflatten(1,(input_shape_image,possible_pixel_values))\n",
        "                                )\n",
        "\n",
        "\n",
        "  def decode_sample(self,z_sample):\n",
        "    #creo la prior p(z)=N(z|0,I), è sempre la stessa\n",
        "    #p_z = MultivariateNormal(torch.zeros(self.latent_space_dimension), torch.eye(self.latent_space_dimension))\n",
        "    #z_sample = p_z.sample().to(device)\n",
        "    #print(\"z_sample \", z_sample.shape)\n",
        "\n",
        "\n",
        "    #inietto nel decoder:\n",
        "    z_sample = z_sample.reshape(1,1,z_sample.shape[1])\n",
        "\n",
        "    logits = self.decoder(z_sample)\n",
        "    #print(\"Shape logits in sample \", logits.shape)\n",
        "\n",
        "\n",
        "    #(1,784,256)\n",
        "    logits = logits.reshape(1, self.input_shape_image, self.possible_pixel_values )\n",
        "\n",
        "    probabilities = torch.softmax(logits, dim=-1)\n",
        "    #non applico la softmax per convertirli in probabilità perchè\n",
        "    #la multinomial di torch accetta anche le logits\n",
        "    probabilities = probabilities.view(-1, self.possible_pixel_values)\n",
        "\n",
        "    sample = torch.multinomial(probabilities, num_samples=1)\n",
        "\n",
        "    x = sample.view(self.input_shape_image)\n",
        "    return x\n",
        "\n",
        "\n",
        "  def forward(self, z, x):\n",
        "    #z è una matrice (L, N, dim_latente), la inietto nel decoder per ottenere\n",
        "    #le logits\n",
        "    #print(\"Decoder forward\")\n",
        "\n",
        "    #Le logits hanno forma (L,N, numero_pixel*possibili_valori)\n",
        "    z = z.reshape(z.shape[0]*z.shape[1],1,z.shape[2])\n",
        "    #print(\"Z dimension: \", z.shape)\n",
        "    logits = self.decoder(z).to(device)\n",
        "    #print(\"logits: \", logits.shape)\n",
        "    logits = logits.reshape((z.shape[0],z.shape[1],logits.shape[1],logits.shape[2]))\n",
        "    #print(\"logits resh: \", logits)\n",
        "    '''\n",
        "      Prima di convertire le logits in probabilità, ciascun vettore del tensore\n",
        "      contiene i logits di TUTTI i pixel [px1-v=v1,...,px1-v=vk, px2-v=1,....], quindi\n",
        "      devo prima fare un reshape del genere [[px1-v=v1,...,px1-v=vk], [...]] isolando\n",
        "      solo le probabilità di ogni pixel\n",
        "\n",
        "    '''\n",
        "    #(L, N, numero_pixel, possibili_valori)\n",
        "    logits = logits.reshape((logits.shape[0],logits.shape[1],self.input_shape_image,self.possible_pixel_values))\n",
        "    #applico la softmax per convertire le logits in probabilità\n",
        "    probabilities = torch.softmax(logits,3)\n",
        "    #print(\"probabilities\",probabilities.device)\n",
        "\n",
        "    #correggo (per questioni di stabilità) le probabilità troppo basse\n",
        "    #Devono stare tra 0+EPS < p < 1-EPS\n",
        "    EPS = 1.e-5\n",
        "    probabilities = torch.clamp(probabilities, EPS,1. - EPS)\n",
        "    #print(\"probabilities \",probabilities.device)\n",
        "    '''\n",
        "      Per ogni z iniettato ho ottenuto delle probabilità. Siccome voglio valutare\n",
        "      l'expected value seguente:\n",
        "                              E[ln(p(x|z))]\n",
        "      e sicome lo voglio approssimare con gli L ln(p(x|z)) ottenuti, ossia:\n",
        "                              E[ln(p(x|z))] = 1/L*Sum(ln(p(x|z)))\n",
        "      allora tutti i calcoli seguenti servono solo a poter ottenere per ciascuna\n",
        "      immagine x tutti i ln(p(x|z)), in particolare:\n",
        "      1) Per ogni z ho una matrice di dimensione(numero_pixel, probabilità_valori)\n",
        "         e quindi estraggo la probabilità che ha quella particolare componente xi\n",
        "         in ingresso.\n",
        "      2) Alla fine per ogni coppia x e z ho un vettore di probabilità per xi, quindi\n",
        "         quella di x è calcolabile come:\n",
        "                              p(x|z)=p(x1|z)*p(x2|z)*...*p(xk|z)\n",
        "         Se però calcolo il logaritmo, che è quello che voglio posso sommarli:\n",
        "                              ln(p(x|z))=ln(p(x1|z))+ln(p(x2|z))+...+ln(p(xk|z))\n",
        "      3) Avendone L li sommo e li divido per L\n",
        "\n",
        "    '''\n",
        "    #converto ogni pixel in un vettore one_hot\n",
        "    x_one_hot = F.one_hot(x.long(), num_classes = self.possible_pixel_values)\n",
        "    #print(\"ONE-HOT\", x_one_hot.device)\n",
        "    x_one_hot = x_one_hot.reshape(x_one_hot.shape[0],x_one_hot.shape[1]*x_one_hot.shape[2]*x_one_hot.shape[3])\n",
        "    #print(\"ONE-HOT reshaped \",x_one_hot.device)\n",
        "    probabilities = probabilities.reshape(probabilities.shape[0],probabilities.shape[1],probabilities.shape[2]*probabilities.shape[3])\n",
        "    #li converto in logaritmi\n",
        "    log_probabilities = torch.log(probabilities)\n",
        "    #print(\"Probabilities \", probabilities.device)\n",
        "    selected_log_probabilities = x_one_hot * log_probabilities\n",
        "    #adesso in un unico vettore ho tutti le ln(p(x_i|z)) per lo z.\n",
        "    #print(\"Log Selected probabilities \", selected_log_probabilities.device)\n",
        "    #li sommo (L,N), ossia ogni vettore contiene gli ln(p(x|z)) per gli N x\n",
        "    ln_p_x_z = selected_log_probabilities.sum(2)\n",
        "    #print(\"ln(p(x|z) \", ln_p_x_z.device)\n",
        "    #ogni colonna contiene quindi gli ln(p(x|z)) per lo stesso x.\n",
        "    #li sommo e li divido per L ottenenedo il reconstruction error per ogni x\n",
        "    RE_per_image = ln_p_x_z.sum(0) / self.L\n",
        "    #print(\"RE_per_image\",RE_per_image.device)\n",
        "\n",
        "    return RE_per_image\n",
        "\n"
      ],
      "metadata": {
        "id": "hRYe21JJgSUJ"
      },
      "execution_count": null,
      "outputs": []
    },
    {
      "cell_type": "markdown",
      "source": [
        "VAE"
      ],
      "metadata": {
        "id": "M_VcPGCMgSUK"
      }
    },
    {
      "cell_type": "code",
      "source": [
        "class VAE(nn.Module):\n",
        "  def __init__(self, possible_pixel_values, input_shape_image, latent_space_dimension, number_of_hidden_neurons,L,T, type_of_prior=0, mog_components=1):\n",
        "    super(VAE, self).__init__()\n",
        "\n",
        "    self.encoder = Encoder(input_shape_image,latent_space_dimension,number_of_hidden_neurons,L, T)\n",
        "    self.decoder = Decoder(input_shape_image,latent_space_dimension,number_of_hidden_neurons,possible_pixel_values,L)\n",
        "\n",
        "    prior = None\n",
        "    if type_of_prior == 1:\n",
        "      #creo una mixture of gaussian a 15 componenti come prior p(z)\n",
        "      prior = MoG(latent_space_dimension, mog_components)\n",
        "    elif type_of_prior == 2:\n",
        "      prior = VampPrior(input_shape_image, latent_space_dimension, possible_pixel_values, self.encoder.encode, num_components= mog_components )\n",
        "    elif type_of_prior == 3:\n",
        "      prior = GTM_VampPrior(input_shape_image, latent_space_dimension, possible_pixel_values, self.encoder.encode, num_components= mog_components )\n",
        "    elif type_of_prior == 4:\n",
        "      prior = Flow_Based_prior(latent_space_dimension)\n",
        "    else:\n",
        "      #p(z)=N(0,I)\n",
        "      prior = MultivariateNormal(torch.zeros(self.latent_space_dimension), torch.eye(self.latent_space_dimension))\n",
        "\n",
        "    self.prior = prior\n",
        "\n",
        "  def initialize(self):\n",
        "    #aggiorno il riferimento della prior per l'encoder\n",
        "    self.encoder.set_prior(self.prior)\n",
        "    #e dell'encoder per la prior\n",
        "    #self.prior.set_encoder(self.encoder)\n",
        "\n",
        "  def sample(self):\n",
        "    z_sample = self.encoder.sample()\n",
        "    return self.decoder.decode_sample(z_sample)\n",
        "\n",
        "  def forward(self, x):\n",
        "    #inietto x nell'encoder per ottenere la KL loss e i vettori z campionati (Monte-Carlo)\n",
        "    KL_loss_per_image, z_samples_per_image = self.encoder.forward(x)\n",
        "\n",
        "    #inietto nel decoder x per essere ricostruito attraverso gli stessi campioni z\n",
        "    #e per ottenere il reconstruction error\n",
        "    RE_loss_per_image = self.decoder.forward(z_samples_per_image,x)\n",
        "\n",
        "    #sommo per ottenere una approssimazione del ln(p(x)) per ogni immagine\n",
        "    ln_p = KL_loss_per_image - RE_loss_per_image\n",
        "\n",
        "    #calcolo la media del batch\n",
        "    ln_p_mean = ln_p.mean()\n",
        "\n",
        "    return ln_p_mean"
      ],
      "metadata": {
        "id": "2v7SZ8r8gSUK"
      },
      "execution_count": null,
      "outputs": []
    },
    {
      "cell_type": "markdown",
      "source": [
        "# Training"
      ],
      "metadata": {
        "id": "u_P94_AwVz8o"
      }
    },
    {
      "cell_type": "code",
      "source": [
        "L=2 #for Monte Carlo"
      ],
      "metadata": {
        "id": "SVL6n1H4gYJd"
      },
      "execution_count": null,
      "outputs": []
    },
    {
      "cell_type": "code",
      "source": [
        "model = VAE( possible_pixel_values, input_shape_image, latent_space_dimension, number_of_hidden_neurons, L,T=12,type_of_prior=1, mog_components=mog_components).to(device)\n",
        "model.initialize()"
      ],
      "metadata": {
        "id": "sJc48paqV04o",
        "colab": {
          "base_uri": "https://localhost:8080/"
        },
        "outputId": "3d59280c-4fa5-48c9-b3a0-be82aa3234ee"
      },
      "execution_count": null,
      "outputs": [
        {
          "output_type": "stream",
          "name": "stderr",
          "text": [
            "/usr/local/lib/python3.10/dist-packages/torch/nn/modules/lazy.py:180: UserWarning: Lazy modules are a new feature under heavy development so changes to the API or functionality can happen at any moment.\n",
            "  warnings.warn('Lazy modules are a new feature under heavy development '\n"
          ]
        }
      ]
    },
    {
      "cell_type": "code",
      "source": [
        "learning_rate = 1e-3\n",
        "#i parametri che l'optimizer deve ottimizzare sono tutti quelli del modello\n",
        "parameters_to_optimize = [p for p in model.parameters() if p.requires_grad == True]\n",
        "\n",
        "optimizer = torch.optim.Adamax(parameters_to_optimize, lr=learning_rate)"
      ],
      "metadata": {
        "id": "58k7uDJ-WLID"
      },
      "execution_count": null,
      "outputs": []
    },
    {
      "cell_type": "code",
      "source": [
        "import math\n",
        "\n",
        "def sample_and_save(model, name, input_shape):\n",
        "\n",
        "  model.eval()\n",
        "\n",
        "  #voglio campionare 16 immagini e le voglio in una griglia 4x4\n",
        "  n=4\n",
        "  number_of_grid_cells = n*n\n",
        "  #quindi dico al modello di campionarmi 16 immagini\n",
        "  xs = np.zeros((number_of_grid_cells,input_shape))\n",
        "  for i in np.arange(number_of_grid_cells):\n",
        "    generated_sample = model.sample().cpu()\n",
        "    #lo stacco dal grafo di computazione\n",
        "    generated_sample = generated_sample.detach().numpy()\n",
        "    xs[i,:] = generated_sample\n",
        "\n",
        "\n",
        "  fig, ax = plt.subplots(n, n)\n",
        "  for i, ax in enumerate(ax.flatten()):\n",
        "      plottable_image = np.reshape(xs[i], (int(math.sqrt(input_shape)), int(math.sqrt(input_shape))))\n",
        "      ax.imshow(plottable_image, cmap='gray')\n",
        "      ax.axis('off')\n",
        "\n",
        "  plt.savefig(path_to_output+'epoca_' +str(name)+ '.pdf', bbox_inches='tight')\n",
        "  plt.close()\n"
      ],
      "metadata": {
        "id": "K0kD3JWPAdpi"
      },
      "execution_count": null,
      "outputs": []
    },
    {
      "cell_type": "code",
      "source": [
        "import gc\n",
        "\n",
        "number_of_epochs = 1000\n",
        "\n",
        "#qui salvo il migliore modello, ossia quello che ha la loss sulla validazione migliore\n",
        "best_model = model\n",
        "best_validation_loss = 1000000\n",
        "\n",
        "patience = 0\n",
        "max_patience = 25\n",
        "\n",
        "for epoch in range(number_of_epochs):\n",
        "  model.train()\n",
        "  print(\"Epoca \"+str(epoch)+\" _____________________________________________________________________\")\n",
        "  i=1\n",
        "  for index_batch, batch in enumerate(training_loader):\n",
        "\n",
        "    if len(batch.shape)==2:\n",
        "      batch = batch.reshape(batch.shape[0],int(math.sqrt(batch.shape[1])),int(math.sqrt(batch.shape[1])))\n",
        "    batch = batch.to(device)\n",
        "\n",
        "    batch = batch.to(torch.float32)\n",
        "\n",
        "    loss = model.forward(batch)\n",
        "\n",
        "    #calcolo le derivate parziali della loss rispetto ogni parametro\n",
        "    loss.backward()\n",
        "\n",
        "    #adesso ogni parametro ha in .grad il gradiente. Aggiorno il suo valore\n",
        "    optimizer.step()\n",
        "\n",
        "    #resetto il .grad di ogni parametro (altrimenti sommo quello attuale al successivo che calcoleremo nell'epoca dopo)\n",
        "    optimizer.zero_grad()\n",
        "\n",
        "    print(\"   Loss batch: \",str(i),\": \", loss)\n",
        "    #print(\"----\",model.prior.u)\n",
        "    i=i+1\n",
        "\n",
        "  #alla fine di ogni epoca, valuto come si comporta la loss col validation set\n",
        "  print(\"   ___________________________\")\n",
        "  model.eval()\n",
        "  validation_loss = 0\n",
        "  N = 0\n",
        "\n",
        "  torch.cuda.empty_cache()\n",
        "  gc.collect()\n",
        "\n",
        "  for index_batch, batch in enumerate(validation_loader):\n",
        "    if len(batch.shape)==2:\n",
        "      batch = batch.reshape(batch.shape[0],int(math.sqrt(batch.shape[1])),int(math.sqrt(batch.shape[1])))\n",
        "    batch = batch.to(device)\n",
        "    batch = batch.to(torch.float32)\n",
        "    loss_i = model.forward(batch)\n",
        "    validation_loss = validation_loss + loss_i.item()#.to(\"cpu\")\n",
        "    N = N +  1#batch.shape[0]\n",
        "    print(\"   Loss validation batch \",str(N),\": \",loss_i)\n",
        "\n",
        "  validation_loss = validation_loss/N\n",
        "  print(\"   Loss media validation: \",str(validation_loss))\n",
        "\n",
        "  #se tale modello ha una loss migliore di quella attualmente migliore..\n",
        "  if validation_loss < best_validation_loss:\n",
        "    patience = 0\n",
        "    best_validation_loss = validation_loss\n",
        "    print(\"   la loss risulta essere migliore\")\n",
        "    torch.save(model.state_dict(), path_to_model)\n",
        "    #campiono e salvo\n",
        "    sample_and_save(model, epoch, input_shape_image)\n",
        "  else:\n",
        "    print(\"   patience= \"+ str(patience+1))\n",
        "    patience = patience + 1\n",
        "\n",
        "  if patience > max_patience:\n",
        "    print(\"\")\n",
        "    print(\"Patience massimo superato. Fine del training\")\n",
        "    break\n"
      ],
      "metadata": {
        "id": "wHHcmhvqWftP"
      },
      "execution_count": null,
      "outputs": []
    }
  ]
}