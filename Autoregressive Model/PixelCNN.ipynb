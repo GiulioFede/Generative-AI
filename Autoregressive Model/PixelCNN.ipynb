{
  "nbformat": 4,
  "nbformat_minor": 0,
  "metadata": {
    "colab": {
      "provenance": []
    },
    "kernelspec": {
      "name": "python3",
      "display_name": "Python 3"
    },
    "language_info": {
      "name": "python"
    }
  },
  "cells": [
    {
      "cell_type": "code",
      "execution_count": 2,
      "metadata": {
        "id": "95Unj2pV1ELG"
      },
      "outputs": [],
      "source": [
        "import os\n",
        "import numpy as np\n",
        "import matplotlib.pyplot as plt\n",
        "import torch\n",
        "from sklearn.datasets import load_digits\n",
        "from sklearn import datasets\n",
        "from torch.utils.data import Dataset, DataLoader\n",
        "import torch.nn as nn\n",
        "import torch.nn.functional as F"
      ]
    },
    {
      "cell_type": "markdown",
      "source": [
        "# Dataset"
      ],
      "metadata": {
        "id": "YNDxmdd01P7x"
      }
    },
    {
      "cell_type": "code",
      "source": [
        "#Abbiamo 1797 campioni, ciascuno 8x8. Ogni immagine è organizzata come un vettore di 64 pixel\n",
        "digits_dataset = load_digits()\n",
        "\n",
        "print(digits_dataset.data.shape)"
      ],
      "metadata": {
        "colab": {
          "base_uri": "https://localhost:8080/"
        },
        "id": "aYPMHwO6k3_R",
        "outputId": "9ca1bff1-3658-4c15-8bdc-bcb8fee83435"
      },
      "execution_count": 3,
      "outputs": [
        {
          "output_type": "stream",
          "name": "stdout",
          "text": [
            "(1797, 64)\n"
          ]
        }
      ]
    },
    {
      "cell_type": "code",
      "source": [
        "from matplotlib import pyplot as plt\n",
        "#ogni riga è una immagine. Vediamo un esempio\n",
        "img1 = digits_dataset.data[0]\n",
        "#facciamo il reshape del vettore di 64 elementi in 8x8\n",
        "img1 = np.reshape(img1, (8,8))\n",
        "plt.imshow(img1)\n"
      ],
      "metadata": {
        "colab": {
          "base_uri": "https://localhost:8080/",
          "height": 447
        },
        "id": "xOzMXbwxl_7X",
        "outputId": "1d863f58-640f-4af6-c3db-2272299d583c"
      },
      "execution_count": 4,
      "outputs": [
        {
          "output_type": "execute_result",
          "data": {
            "text/plain": [
              "<matplotlib.image.AxesImage at 0x7f5340c8b6d0>"
            ]
          },
          "metadata": {},
          "execution_count": 4
        },
        {
          "output_type": "display_data",
          "data": {
            "text/plain": [
              "<Figure size 640x480 with 1 Axes>"
            ],
            "image/png": "[encoded data removed]"
          },
          "metadata": {}
        }
      ]
    },
    {
      "cell_type": "code",
      "source": [
        "#essendo ogni riga una immagine allora prendo le prime 1000 come training set, 350 come validation set e il resto come test set\n",
        "training_data = digits_dataset.data[0:1000].astype(np.float32)\n",
        "validation_data = digits_dataset.data[1000:1350].astype(np.float32)\n",
        "test_data = digits_dataset.data[1350:].astype(np.float32)"
      ],
      "metadata": {
        "id": "rH56FdMIlpbN"
      },
      "execution_count": 5,
      "outputs": []
    },
    {
      "cell_type": "markdown",
      "source": [
        "Non alleneremo la rete dandole tutti i dati, ma batch dopo batch. Creiamo quindi un DataLoader che semplicemente dividerà i dati in batch da 64 immagini (dopo averli mischiati) e ci restituirà, quando richiesto, un batch alla volta."
      ],
      "metadata": {
        "id": "mIp49CvLncr1"
      }
    },
    {
      "cell_type": "code",
      "source": [
        "training_loader = DataLoader(training_data, batch_size=64, shuffle=True)\n",
        "validation_loader = DataLoader(validation_data, batch_size=64, shuffle=True)\n",
        "test_loader = DataLoader(test_data, batch_size=64, shuffle=True)"
      ],
      "metadata": {
        "id": "QO_kV43ulD3w"
      },
      "execution_count": 6,
      "outputs": []
    },
    {
      "cell_type": "markdown",
      "source": [
        "# Model"
      ],
      "metadata": {
        "id": "XR07Litx1eVK"
      }
    },
    {
      "cell_type": "code",
      "source": [
        "class MaskedConvolutionalLayer(nn.Module):\n",
        "   def __init__(self,A,num_canali_input,num_filters, kernel_size,padding=\"same\",**kwargs):\n",
        "    super(MaskedConvolutionalLayer, self).__init__()\n",
        "    \n",
        "    #se siamo nel primo layer (A=true) o meno\n",
        "    self.A = A\n",
        "    \n",
        "    #creo un classico Conv2D con padding=\"same\", stride=1 e filtri num_filters\n",
        "    self.conv2d = nn.Conv2d(in_channels=num_canali_input, out_channels=num_filters,kernel_size=kernel_size,padding=padding)\n",
        "    \n",
        "    #Maschero il filtro \n",
        "    #1. Ottengo la shape (N,N) del kernel\n",
        "    kernel_shape = self.conv2d.kernel_size\n",
        "    #2. Creo una maschera (N,N) di zeri\n",
        "    mask = torch.zeros(kernel_shape)\n",
        "    #Inserisco 1 dalla prima riga fino a metà del kernel (divisione intera)\n",
        "    mask[: kernel_shape[0] // 2]=1.0\n",
        "    #Inserisco 1 dalla prima colonna fino a metà. Se è di tipo A non considero\n",
        "    #il centro, altrimenti lo includo\n",
        "    mask[kernel_shape[0] // 2,: kernel_shape[1] // 2 + (not A) ]=1.0\n",
        "\n",
        "    #modifico il kernel\n",
        "    self.conv2d.weight.data = self.conv2d.weight.data * mask\n",
        "   \n",
        "   def forward(self,x):\n",
        "      return self.conv2d(x)\n",
        "    "
      ],
      "metadata": {
        "id": "mpVoJq271ffJ"
      },
      "execution_count": 59,
      "outputs": []
    },
    {
      "cell_type": "code",
      "source": [
        "class ResidualBlock(nn.Module):\n",
        "  def __init__(self,num_canali_input,number_of_filters,**kwargs):\n",
        "    super(ResidualBlock, self).__init__()\n",
        "    self.conv1 = nn.Conv2d(in_channels=num_canali_input,out_channels=number_of_filters//2,kernel_size=1)\n",
        "    self.relu = nn.ReLU(inplace=True)\n",
        "    self.masked_conv = MaskedConvolutionalLayer(False,num_canali_input=number_of_filters//2,num_filters=number_of_filters//2, kernel_size=3)\n",
        "    self.conv2 =nn.Conv2d(in_channels=number_of_filters//2,out_channels=number_of_filters,kernel_size=1)\n",
        "\n",
        "  def forward(self,input):\n",
        "    \n",
        "    x = self.conv1(input)\n",
        "\n",
        "    x = self.relu(x)\n",
        "\n",
        "    x = self.masked_conv(x)\n",
        "\n",
        "    x = self.conv2(x)\n",
        "\n",
        "    #implemento la skip connection semplicemente sommando l'input all'output x\n",
        "    return x + input\n"
      ],
      "metadata": {
        "id": "QP4qz7HLOH-P"
      },
      "execution_count": 60,
      "outputs": []
    },
    {
      "cell_type": "code",
      "source": [
        "class PixelCNN(nn.Module):\n",
        "  def __init__(self,num_canali_input,num_canali_output,**kwargs):\n",
        "    super(PixelCNN, self).__init__()\n",
        "    \n",
        "    self.num_canali_input = num_canali_input\n",
        "    self.num_canali_output = num_canali_output\n",
        "\n",
        "    #il primo layer di convoluzione non deve considerare il pixel centrale\n",
        "    self.masked_conv_A = MaskedConvolutionalLayer(True,num_canali_input,num_filters=128, kernel_size=7)\n",
        "\n",
        "    #gli ultimi due layer di convoluzione non deve considerare il pixel centrale e deve avere kernel 1 e padding=\"valid\"\n",
        "    self.masked_conv_B = MaskedConvolutionalLayer(False,num_canali_input=128,num_filters=128, kernel_size=1, padding=\"valid\")\n",
        "    \n",
        "    self.relu = nn.ReLU(inplace=True)\n",
        "\n",
        "    #residual block\n",
        "    self.residual_block = ResidualBlock(num_canali_input=128,number_of_filters=128)\n",
        "\n",
        "    #output. Il kernel deve avere 17 output rappresentati le 17 probabilità per i 17 valori (per ogni pixel)\n",
        "    self.output_layer = nn.Conv2d(in_channels=128,out_channels=num_canali_output, kernel_size=1, padding=\"valid\")\n",
        "\n",
        "  def forward(self, input, mode=\"training\"):\n",
        "    x = self.masked_conv_A(input)\n",
        "\n",
        "    x = self.relu(x)\n",
        "\n",
        "    for i in range(5):\n",
        "      x = self.residual_block(x)\n",
        "    \n",
        "    for i in range(2):\n",
        "      x = self.masked_conv_B(x)\n",
        "    \n",
        "    output = self.output_layer(x)\n",
        "    output = output.permute(0,2,3,1)\n",
        "\n",
        "    output = torch.softmax(output, dim=3)\n",
        "\n",
        "    if mode==\"prediction\":\n",
        "      return output\n",
        "\n",
        "    EPS = 1.e-5\n",
        "    x_one_hot = F.one_hot(input.long(), num_classes=self.num_canali_output) .squeeze()\n",
        "    log_p = x_one_hot * torch.log(torch.clamp(output, EPS, 1. - EPS))\n",
        "    vector_of_probabilities_per_image = torch.sum(log_p, dim=-1) \n",
        "    mle_per_image = -vector_of_probabilities_per_image.sum(dim=(1,2))\n",
        "    mle_loss_batch = mle_per_image.mean()\n",
        "\n",
        "    return mle_loss_batch\n"
      ],
      "metadata": {
        "id": "b1uPzSRzMoem"
      },
      "execution_count": 75,
      "outputs": []
    },
    {
      "cell_type": "code",
      "source": [
        "model = PixelCNN(1,17)"
      ],
      "metadata": {
        "id": "0bJvmqALkDb3"
      },
      "execution_count": 76,
      "outputs": []
    },
    {
      "cell_type": "markdown",
      "source": [
        "# Training"
      ],
      "metadata": {
        "id": "AK-4UVOukR1U"
      }
    },
    {
      "cell_type": "code",
      "source": [
        "learning_rate = 0.002\n",
        "#i parametri che l'optimizer deve ottimizzare sono tutti quelli del modello\n",
        "parameters_to_optimize = [p for p in model.parameters() if p.requires_grad == True]\n",
        "\n",
        "optimizer = torch.optim.Adamax(parameters_to_optimize, lr=learning_rate)"
      ],
      "metadata": {
        "id": "GNZS4Ju7lBDT"
      },
      "execution_count": 77,
      "outputs": []
    },
    {
      "cell_type": "code",
      "source": [
        "import copy \n",
        "\n",
        "best_validation_loss = 1000000\n",
        "\n",
        "patience = 0\n",
        "max_patience = 20\n",
        "number_of_epochs = 1000\n",
        "\n",
        "for epoch in range(number_of_epochs):\n",
        "  model.train()\n",
        "  print(\"Epoca \"+str(epoch)+\" _____________________________________________________________________\")\n",
        "\n",
        "  for index_batch, batch in enumerate(training_loader):\n",
        "    #il batch ha shape 64x64. Portiamolo in (64,1,64), ossia 64 immagini ciascuna con\n",
        "    # un canale e 64 pixel\n",
        "    batch = batch.unsqueeze(1)\n",
        "    #stavolta manipoliamo immagini bidimensionali invece che \"immagini flattate\"\n",
        "    batch = batch.reshape(batch.size(0), batch.size(1),8,8)\n",
        "    #ottengo la loss sul batch corrente\n",
        "    loss = model.forward(batch)\n",
        "\n",
        "    #calcolo le derivate parziali della loss rispetto ogni parametro\n",
        "    loss.backward()\n",
        "\n",
        "    #adesso ogni parametro ha in .grad il gradiente. Aggiorno il suo valore\n",
        "    optimizer.step()\n",
        "\n",
        "    #resetto il .grad di ogni parametro (altrimenti sommo quello attuale al successivo che calcoleremo nell'epoca dopo)\n",
        "    optimizer.zero_grad()\n",
        "\n",
        "    print(\"   Loss: \", loss)\n",
        "\n",
        "  #alla fine di ogni epoca, valuto come si comporta la loss col validation set\n",
        "  print(\"   ___________________________\")\n",
        "  model.eval()\n",
        "  validation_loss = 0\n",
        "  N = 0\n",
        "  for index_batch, batch in enumerate(validation_loader):\n",
        "    batch = batch.unsqueeze(1)\n",
        "    batch = batch.reshape(batch.size(0), batch.size(1),8,8)\n",
        "    loss_i = model.forward(batch)\n",
        "    validation_loss = validation_loss + loss_i\n",
        "    N = N +  1\n",
        "\n",
        "  validation_loss = validation_loss/N\n",
        "  print(\"   Loss media validation: \"+str(validation_loss))\n",
        "\n",
        "  #se tale modello ha una loss migliore di quella attualmente migliore..\n",
        "  if validation_loss < best_validation_loss:\n",
        "    patience = 0\n",
        "    best_validation_loss = validation_loss\n",
        "    print(\"   la loss risulta essere migliore\")\n",
        "    #best_model = copy.deepcopy(model)\n",
        "  else:\n",
        "    print(\"   patience= \"+ str(patience+1))\n",
        "    patience = patience + 1\n",
        "  \n",
        "  if patience > max_patience:\n",
        "    print(\"\")\n",
        "    print(\"Patience massimo superato. Fine del training\")\n",
        "    break\n"
      ],
      "metadata": {
        "id": "YfkQwlXxkTEw"
      },
      "execution_count": null,
      "outputs": []
    },
    {
      "cell_type": "markdown",
      "source": [
        "# Sampling"
      ],
      "metadata": {
        "id": "1b7DJQS5yo8y"
      }
    },
    {
      "cell_type": "code",
      "source": [
        "def generate():\n",
        "  generated_image = torch.zeros((1,1,8,8))\n",
        "  batch,channels, rows, cols = generated_image.shape\n",
        "  for row in range(rows):\n",
        "    for col in range(cols):\n",
        "      for channel in range(channels): #utile per rgb\n",
        "        #calcolo i vettori di probabilità ma prendo solo quel vettore (di 17)\n",
        "        #del pixel (row,col)\n",
        "        probs = model.forward(generated_image, mode=\"prediction\")[:, row, col, :]\n",
        "        pixel_value = torch.multinomial(probs, num_samples=1)\n",
        "        generated_image[:, row, col, channel] = pixel_value\n",
        "    return generated_image\n",
        "\n",
        "def generete_image():\n",
        "  generated_image = generate()\n",
        "  return generated_image\n"
      ],
      "metadata": {
        "id": "1fMefrpKyqof"
      },
      "execution_count": 109,
      "outputs": []
    },
    {
      "cell_type": "code",
      "source": [
        "generete_image()"
      ],
      "metadata": {
        "id": "jpWjT_FSza-_"
      },
      "execution_count": null,
      "outputs": []
    }
  ]
}