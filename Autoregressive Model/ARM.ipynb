{
  "nbformat": 4,
  "nbformat_minor": 0,
  "metadata": {
    "colab": {
      "provenance": [],
      "collapsed_sections": [
        "zSA-HVRTk2g3",
        "P0R_WPsAGh1Z"
      ],
      "gpuType": "T4"
    },
    "kernelspec": {
      "name": "python3",
      "display_name": "Python 3"
    },
    "language_info": {
      "name": "python"
    },
    "gpuClass": "standard"
  },
  "cells": [
    {
      "cell_type": "code",
      "source": [
        "import os\n",
        "import numpy as np\n",
        "import matplotlib.pyplot as plt\n",
        "import torch\n",
        "from sklearn.datasets import load_digits\n",
        "from sklearn import datasets\n",
        "from torch.utils.data import Dataset, DataLoader\n",
        "import torch.nn as nn\n",
        "import torch.nn.functional as F"
      ],
      "metadata": {
        "id": "0GDz3X_akjBz"
      },
      "execution_count": 2,
      "outputs": []
    },
    {
      "cell_type": "markdown",
      "source": [
        "# Dataset"
      ],
      "metadata": {
        "id": "zSA-HVRTk2g3"
      }
    },
    {
      "cell_type": "code",
      "source": [
        "#Abbiamo 1797 campioni, ciascuno 8x8. Ogni immagine è organizzata come un vettore di 64 pixel\n",
        "digits_dataset = load_digits()\n",
        "\n",
        "print(digits_dataset.data.shape)"
      ],
      "metadata": {
        "colab": {
          "base_uri": "https://localhost:8080/"
        },
        "id": "aYPMHwO6k3_R",
        "outputId": "ffedf10f-e0f0-4a0c-8409-fa7629a3b8a1"
      },
      "execution_count": 3,
      "outputs": [
        {
          "output_type": "stream",
          "name": "stdout",
          "text": [
            "(1797, 64)\n"
          ]
        }
      ]
    },
    {
      "cell_type": "code",
      "source": [
        "from matplotlib import pyplot as plt\n",
        "#ogni riga è una immagine. Vediamo un esempio\n",
        "img1 = digits_dataset.data[0]\n",
        "#facciamo il reshape del vettore di 64 elementi in 8x8\n",
        "img1 = np.reshape(img1, (8,8))\n",
        "plt.imshow(img1)\n"
      ],
      "metadata": {
        "colab": {
          "base_uri": "https://localhost:8080/",
          "height": 0
        },
        "id": "xOzMXbwxl_7X",
        "outputId": "a416e7ec-e76d-4f71-f541-a727c7b860ed"
      },
      "execution_count": 4,
      "outputs": [
        {
          "output_type": "execute_result",
          "data": {
            "text/plain": [
              "<matplotlib.image.AxesImage at 0x7f2cbf031690>"
            ]
          },
          "metadata": {},
          "execution_count": 4
        },
        {
          "output_type": "display_data",
          "data": {
            "text/plain": [
              "<Figure size 640x480 with 1 Axes>"
            ],
            "image/png": "[encoded data removed]"
          },
          "metadata": {}
        }
      ]
    },
    {
      "cell_type": "code",
      "source": [
        "#essendo ogni riga una immagine allora prendo le prime 1000 come training set, 350 come validation set e il resto come test set\n",
        "training_data = digits_dataset.data[0:1000].astype(np.float32)\n",
        "validation_data = digits_dataset.data[1000:1350].astype(np.float32)\n",
        "test_data = digits_dataset.data[1350:].astype(np.float32)"
      ],
      "metadata": {
        "id": "rH56FdMIlpbN"
      },
      "execution_count": 5,
      "outputs": []
    },
    {
      "cell_type": "markdown",
      "source": [
        "Non alleneremo la rete dandole tutti i dati, ma batch dopo batch. Creiamo quindi un DataLoader che semplicemente dividerà i dati in batch da 64 immagini (dopo averli mischiati) e ci restituirà, quando richiesto, un batch alla volta."
      ],
      "metadata": {
        "id": "mIp49CvLncr1"
      }
    },
    {
      "cell_type": "code",
      "source": [
        "training_loader = DataLoader(training_data, batch_size=64, shuffle=True)\n",
        "validation_loader = DataLoader(validation_data, batch_size=64, shuffle=True)\n",
        "test_loader = DataLoader(test_data, batch_size=64, shuffle=True)"
      ],
      "metadata": {
        "id": "QO_kV43ulD3w"
      },
      "execution_count": 6,
      "outputs": []
    },
    {
      "cell_type": "markdown",
      "source": [
        "# Model"
      ],
      "metadata": {
        "id": "U04gfqWjp_qD"
      }
    },
    {
      "cell_type": "markdown",
      "source": [
        "Creiamo il CausalConv1D"
      ],
      "metadata": {
        "id": "Ip7patdrqBz9"
      }
    },
    {
      "cell_type": "code",
      "source": [
        "class CausalConv1d(nn.Module):\n",
        "\n",
        "  def __init__(self, num_canali_input, num_canali_output, kernel_size, dilation, A=False, **kwargs):\n",
        "    super(CausalConv1d, self).__init__()\n",
        "\n",
        "    self.kernel_size = kernel_size\n",
        "    self.dilation = dilation\n",
        "    self.A = A\n",
        "\n",
        "    self.padding = (kernel_size-1)*dilation +A*1\n",
        "\n",
        "    self.conv1d = torch.nn.Conv1d(num_canali_input, num_canali_output, kernel_size, stride=1,padding=0, dilation=dilation, **kwargs)\n",
        "\n",
        "  def forward(self, x):\n",
        "    #la funzione concatena self.padding zeri a sinistra di x\n",
        "    x = torch.nn.functional.pad(x, (self.padding, 0))\n",
        "    conv1d_out = self.conv1d(x)\n",
        "    if self.A:\n",
        "        return conv1d_out[:, :, : -1]\n",
        "    else:\n",
        "        return conv1d_out"
      ],
      "metadata": {
        "id": "eVDlZbrlqEkM"
      },
      "execution_count": 7,
      "outputs": []
    },
    {
      "cell_type": "code",
      "source": [
        "kernel = 7\n",
        "num_kernels = 256\n",
        "num_outputs = 17\n",
        "\n",
        "net = nn.Sequential(\n",
        "    CausalConv1d(num_canali_input=1, num_canali_output=num_kernels, kernel_size=kernel, dilation=1,A=True, bias=True),\n",
        "    nn.LeakyReLU(),\n",
        "    CausalConv1d(num_canali_input=num_kernels, num_canali_output=num_kernels, kernel_size=kernel,dilation=2, A=False, bias=True),\n",
        "    nn.LeakyReLU(),\n",
        "    CausalConv1d(num_canali_input=num_kernels, num_canali_output=num_kernels, kernel_size=kernel,dilation=4, A=False, bias=True),\n",
        "    nn.LeakyReLU(),\n",
        "    CausalConv1d(num_canali_input=num_kernels, num_canali_output=num_outputs, kernel_size=kernel, dilation=8, A=False, bias=True))\n"
      ],
      "metadata": {
        "id": "aPO21DdLKfxV"
      },
      "execution_count": 8,
      "outputs": []
    },
    {
      "cell_type": "code",
      "source": [
        "class ARM(nn.Module):\n",
        "    def __init__(self, net, dimensione_input, num_output):\n",
        "        super(ARM, self).__init__()\n",
        "\n",
        "        self.net = net\n",
        "        self.num_output = num_output\n",
        "        self.dimensione_input = dimensione_input\n",
        "\n",
        "    def forward(self, x):\n",
        "        #faccio passare il batch attraverso la rete. Alla fine otterrò (N,17,64) con N numero immagini\n",
        "        h = self.net(x)\n",
        "        #per semplicità, voglio per ognuna delle N immagini e per ognuno dei suoi 64 pixel il vettore di probabilità\n",
        "        h = h.permute(0,2,1) # adesso ho (N,64,17)\n",
        "        #per ogni pixel converto i 17 valori in probabilità\n",
        "        p = torch.softmax(h,2)\n",
        "\n",
        "        #calcolo la MLE\n",
        "        EPS = 1.e-5\n",
        "        #serve per selezionare un valore dal vettore probabilità\n",
        "        x_one_hot = F.one_hot(x.long(), num_classes=self.num_output).squeeze()\n",
        "        #calcolo i logaritmi di ogni probabilità estratta\n",
        "        log_p = x_one_hot * torch.log(torch.clamp(p, EPS, 1. - EPS))\n",
        "        vector_of_probabilities_for_image = torch.sum(log_p, dim=-1) #contiene le 64 probabilità selezionate\n",
        "        #per ogni immagine abbiamo il vettore di probabilità. Sommiamole e cambiamo segno\n",
        "        mle_per_image = -vector_of_probabilities_for_image.sum(-1)\n",
        "        #una mle di aggregazione\n",
        "        mle_batch = mle_per_image.sum()\n",
        "\n",
        "        return mle_batch\n",
        "\n",
        "    def sample(self):\n",
        "        x_new = torch.zeros((1,self.dimensione_input))\n",
        "        #per ogni dimensione x1,x2,....,x64\n",
        "        for xi in range(self.dimensione_input):\n",
        "            #do alla rete il vettore x_new\n",
        "            h = self.net(x_new.unsqueeze(1))\n",
        "            h = h.permute(0, 2, 1)\n",
        "            #genero probabilità\n",
        "            p = torch.softmax(h, 2)\n",
        "\n",
        "            #creo una distribuzione categorica usando solo le probabilità della dimensione xi\n",
        "            x_new_xi = torch.multinomial(p[:, xi, :], num_samples=1)\n",
        "            x_new[:, xi] = x_new_xi[:,0]\n",
        "\n",
        "        return x_new"
      ],
      "metadata": {
        "id": "jccVfahvPNjm"
      },
      "execution_count": 21,
      "outputs": []
    },
    {
      "cell_type": "code",
      "source": [
        "model = ARM(net, dimensione_input=64, num_output=num_outputs)"
      ],
      "metadata": {
        "id": "wRJafjRfye0g"
      },
      "execution_count": 23,
      "outputs": []
    },
    {
      "cell_type": "markdown",
      "source": [
        "#Training"
      ],
      "metadata": {
        "id": "J-QcjrRq3O-D"
      }
    },
    {
      "cell_type": "code",
      "source": [
        "learning_rate = 0.002\n",
        "#i parametri che l'optimizer deve ottimizzare sono tutti quelli del modello\n",
        "parameters_to_optimize = [p for p in model.parameters() if p.requires_grad == True]\n",
        "\n",
        "optimizer = torch.optim.Adamax(parameters_to_optimize, lr=learning_rate)"
      ],
      "metadata": {
        "id": "L0IeExx03QHM"
      },
      "execution_count": 10,
      "outputs": []
    },
    {
      "cell_type": "code",
      "source": [
        "import copy\n",
        "\n",
        "number_of_epochs = 1000\n",
        "\n",
        "#qui salvo il migliore modello, ossia quello che ha la loss sulla validazione migliore\n",
        "best_model = model\n",
        "best_validation_loss = 1000000\n",
        "\n",
        "patience = 0\n",
        "max_patience = 20\n",
        "\n",
        "for epoch in range(number_of_epochs):\n",
        "  model.train()\n",
        "  print(\"Epoca \"+str(epoch)+\" _____________________________________________________________________\")\n",
        "\n",
        "  for index_batch, batch in enumerate(training_loader):\n",
        "    #il batch ha shape 64x64. Portiamolo in (64,1,64), ossia 64 immagini ciascuna con\n",
        "    # un canale e 64 pixel\n",
        "    batch = batch.unsqueeze(1)\n",
        "    #ottengo la loss sul batch corrente\n",
        "    loss = model.forward(batch)\n",
        "\n",
        "    #calcolo le derivate parziali della loss rispetto ogni parametro\n",
        "    loss.backward()\n",
        "\n",
        "    #adesso ogni parametro ha in .grad il gradiente. Aggiorno il suo valore\n",
        "    optimizer.step()\n",
        "\n",
        "    #resetto il .grad di ogni parametro (altrimenti sommo quello attuale al successivo che calcoleremo nell'epoca dopo)\n",
        "    optimizer.zero_grad()\n",
        "\n",
        "    print(\"   Loss: \", loss)\n",
        "\n",
        "  #alla fine di ogni epoca, valuto come si comporta la loss col validation set\n",
        "  print(\"   ___________________________\")\n",
        "  model.eval()\n",
        "  validation_loss = 0\n",
        "  N = 0\n",
        "  for index_batch, batch in enumerate(validation_loader):\n",
        "    batch = batch.unsqueeze(1)\n",
        "    loss_i = model.forward(batch)\n",
        "    validation_loss = validation_loss + loss_i\n",
        "    N = N +  batch.shape[0]\n",
        "\n",
        "  validation_loss = validation_loss/N\n",
        "  print(\"   Loss media validation: \"+str(validation_loss))\n",
        "\n",
        "  #se tale modello ha una loss migliore di quella attualmente migliore..\n",
        "  if validation_loss < best_validation_loss:\n",
        "    patience = 0\n",
        "    best_validation_loss = validation_loss\n",
        "    print(\"   la loss risulta essere migliore\")\n",
        "    best_model = copy.deepcopy(model)\n",
        "  else:\n",
        "    print(\"   patience= \"+ str(patience+1))\n",
        "    patience = patience + 1\n",
        "  \n",
        "  if patience > max_patience:\n",
        "    print(\"\")\n",
        "    print(\"Patience massimo superato. Fine del training\")\n",
        "    break\n",
        "\n",
        "\n",
        "\n",
        "\n"
      ],
      "metadata": {
        "id": "sL5fmey16Ueh"
      },
      "execution_count": null,
      "outputs": []
    },
    {
      "cell_type": "markdown",
      "source": [
        "# Synthetic data generation"
      ],
      "metadata": {
        "id": "uQPGiQ28utyl"
      }
    },
    {
      "cell_type": "code",
      "source": [
        "#creo vettore di input\n",
        "new_data = model.sample()"
      ],
      "metadata": {
        "id": "rG6mm9CtuvcO"
      },
      "execution_count": null,
      "outputs": []
    }
  ]
}